{
 "cells": [
  {
   "cell_type": "markdown",
   "metadata": {},
   "source": [
    "## TP1"
   ]
  },
  {
   "cell_type": "markdown",
   "metadata": {},
   "source": [
    "### Exercice 1"
   ]
  },
  {
   "cell_type": "code",
   "execution_count": 2,
   "metadata": {},
   "outputs": [],
   "source": [
    "import numpy as np\n",
    "from math import floor\n",
    "import time\n",
    "\n",
    "arr = np.random.randint(0,100,10000)\n",
    "sortedArr = np.array(arr)\n",
    "sortedArr.sort()\n",
    "\n",
    "def rechercheSequentielle(aTrouve, arr):\n",
    "    for i in range(arr.size):\n",
    "        if arr[i] == aTrouve:\n",
    "            return True\n",
    "    return False\n",
    "\n",
    "def rechercheDichotomique(aTrouve, sortedArr):\n",
    "    ret = False\n",
    "    if sortedArr.size == 1:\n",
    "        if sortedArr[0] == aTrouve:\n",
    "            ret = True\n",
    "    else:\n",
    "        mid = floor(sortedArr.size/2)\n",
    "        if sortedArr[mid] <= aTrouve:\n",
    "            ret = rechercheDichotomique(aTrouve, sortedArr[mid:sortedArr.size])\n",
    "        else:\n",
    "            ret = rechercheDichotomique(aTrouve, sortedArr[0:mid+1])\n",
    "    return ret\n"
   ]
  },
  {
   "cell_type": "markdown",
   "metadata": {},
   "source": [
    "#### Cas d'un élément qui se trouve dans le tableau :"
   ]
  },
  {
   "cell_type": "markdown",
   "metadata": {},
   "source": [
    "##### Recherche séquentielle :"
   ]
  },
  {
   "cell_type": "code",
   "execution_count": 15,
   "metadata": {},
   "outputs": [
    {
     "name": "stdout",
     "output_type": "stream",
     "text": [
      "Trouvé ? True\n",
      "Temps d'exécution dans le meilleur cas : 3.779999997277628e-05 s\n",
      "Trouvé ? True\n",
      "Temps d'exécution dans le pire cas : 0.0019151999999849068 s\n",
      "Temps moyen : 0.0009764999999788415 s\n"
     ]
    }
   ],
   "source": [
    "nbExistant = 120\n",
    "arr[0] = nbExistant\n",
    "t1a = time.clock()\n",
    "res = rechercheSequentielle(nbExistant, arr)\n",
    "t2a = time.clock()\n",
    "tma = t2a-t1a\n",
    "print(\"Trouvé ?\",res)\n",
    "print(\"Temps d'exécution dans le meilleur cas :\", tma, \"s\")\n",
    "arr[0] = 0\n",
    "arr[arr.size-1] = nbExistant\n",
    "t1b = time.clock()\n",
    "res = rechercheSequentielle(nbExistant, arr)\n",
    "t2b = time.clock()\n",
    "tmb = t2b-t1b\n",
    "print(\"Trouvé ?\",res)\n",
    "print(\"Temps d'exécution dans le pire cas :\", tmb, \"s\")\n",
    "print(\"Temps moyen :\",(tma+tmb)/2, \"s\")\n",
    "arr[arr.size-1] = 0"
   ]
  },
  {
   "cell_type": "markdown",
   "metadata": {},
   "source": [
    "##### Recherche dichotomique :"
   ]
  },
  {
   "cell_type": "code",
   "execution_count": 3,
   "metadata": {},
   "outputs": [
    {
     "name": "stdout",
     "output_type": "stream",
     "text": [
      "Trouvé ? True\n",
      "Temps d'exécution : 0.0001227999999999993 s\n"
     ]
    }
   ],
   "source": [
    "nbExistant = 120\n",
    "sortedArr[4684] = nbExistant\n",
    "sortedArr.sort()\n",
    "t1 = time.clock()\n",
    "res = rechercheDichotomique(nbExistant, sortedArr)\n",
    "t2 = time.clock()\n",
    "print(\"Trouvé ?\", res)\n",
    "print(\"Temps d'exécution :\",(t2-t1), \"s\")\n",
    "sortedArr[4684] = 0\n",
    "sortedArr.sort()"
   ]
  },
  {
   "cell_type": "markdown",
   "metadata": {},
   "source": [
    "#### Cas d'un élément qui ne se trouve pas dans le tableau"
   ]
  },
  {
   "cell_type": "markdown",
   "metadata": {},
   "source": [
    "##### Recherche séquentielle : "
   ]
  },
  {
   "cell_type": "code",
   "execution_count": 4,
   "metadata": {},
   "outputs": [
    {
     "name": "stdout",
     "output_type": "stream",
     "text": [
      "Trouvé ? False\n",
      "Temps d'exécution : 0.001977799999999995 s\n"
     ]
    }
   ],
   "source": [
    "nbInexistant = 120\n",
    "t1 = time.clock()\n",
    "res = rechercheSequentielle(nbInexistant, arr)\n",
    "t2 = time.clock()\n",
    "print(\"Trouvé ?\",res)\n",
    "print(\"Temps d'exécution :\", (t2-t1),\"s\")"
   ]
  },
  {
   "cell_type": "markdown",
   "metadata": {},
   "source": [
    "On remarque que le temps ce temps d'exécution correspond à celui de la recherche dans le pire cas ce qui est logique car l'algorithme doit parcourir le tableau dans tout les cas."
   ]
  },
  {
   "cell_type": "markdown",
   "metadata": {},
   "source": [
    "##### Recherche dichotomique"
   ]
  },
  {
   "cell_type": "code",
   "execution_count": 5,
   "metadata": {},
   "outputs": [
    {
     "name": "stdout",
     "output_type": "stream",
     "text": [
      "Trouvé ? False\n",
      "Temps d'exécution : 0.00010439999999999755 s\n"
     ]
    }
   ],
   "source": [
    "nbInexistant = 140\n",
    "t1 = time.clock()\n",
    "res = rechercheDichotomique(nbInexistant,sortedArr)\n",
    "t2 = time.clock()\n",
    "print(\"Trouvé ?\",res)\n",
    "print(\"Temps d'exécution :\",(t2-t1), \"s\")"
   ]
  },
  {
   "cell_type": "markdown",
   "metadata": {},
   "source": [
    "### Exercice 2"
   ]
  },
  {
   "cell_type": "code",
   "execution_count": 6,
   "metadata": {},
   "outputs": [
    {
     "name": "stdout",
     "output_type": "stream",
     "text": [
      "Taille addMat2d : 136 octets\n",
      "Taille addMat1d : 136 octets\n",
      "Addition mat2d : 32004.0\n",
      "Temps calcul addMat2d : 0.0025762000000000285 s\n",
      "Addition mat1d : 31937\n",
      "Temps calcul addMat1d : 0.0005558000000007723 s\n"
     ]
    }
   ],
   "source": [
    "from numpy.random import randint as rand\n",
    "import sys\n",
    "\n",
    "size = 100\n",
    "def generateMat2d(size):\n",
    "    mat2d = np.zeros(shape=(size,size))\n",
    "    for i in range(mat2d.shape[0]):\n",
    "        for j in range(mat2d.shape[1]):\n",
    "            if rand(0,100) < 80:\n",
    "                mat2d[i][j] = rand(0,9)\n",
    "    return mat2d\n",
    "mat2d = generateMat2d(size)\n",
    "\n",
    "def generateMat1d(size):\n",
    "    mat1d = []\n",
    "    for i in range(size):\n",
    "        for j in range(size):\n",
    "            if rand(0,100) < 80:\n",
    "                mat1d.append((i,j,rand(0,9)))\n",
    "    return mat1d\n",
    "mat1d = generateMat1d(size)\n",
    "\n",
    "def addMat2d(mat):\n",
    "    ret = 0\n",
    "    for i in range(mat.shape[0]):\n",
    "        for j in range(mat.shape[1]):\n",
    "            ret += mat[i][j]\n",
    "    return ret\n",
    "\n",
    "def addMat1d(mat):\n",
    "    ret = 0\n",
    "    for i in range(len(mat)):\n",
    "        ret += mat[i][2]\n",
    "    return ret\n",
    "\n",
    "print(\"Taille addMat2d :\",sys.getsizeof(addMat2d),\"octets\")\n",
    "print(\"Taille addMat1d :\",sys.getsizeof(addMat1d),\"octets\")\n",
    "\n",
    "t1 = time.clock()\n",
    "print(\"Addition mat2d :\",addMat2d(mat2d))\n",
    "t2 = time.clock()\n",
    "print(\"Temps calcul addMat2d :\",(t2-t1),\"s\")\n",
    "\n",
    "t1 = time.clock()\n",
    "print(\"Addition mat1d :\",addMat1d(mat1d))\n",
    "t2 = time.clock()\n",
    "print(\"Temps calcul addMat1d :\",(t2-t1),\"s\")"
   ]
  },
  {
   "cell_type": "markdown",
   "metadata": {},
   "source": [
    "Temps pour size = 10, mat2d : 0.001 s / mat1d : 0.0002 s\n",
    "\n",
    "Temps pour size = 100, mat2d : 0.005 s / mat1d : 0.002 s\n",
    "\n",
    "Temps pour size = 1000, mat2d : 0.4 s / mat1d : 0.1 s"
   ]
  },
  {
   "cell_type": "code",
   "execution_count": 8,
   "metadata": {},
   "outputs": [],
   "source": [
    "mat2d10 = generateMat2d(10)\n",
    "mat2d100 = generateMat2d(100)\n",
    "mat2d1000 = generateMat2d(1000)\n",
    "\n",
    "mat1d10 = generateMat1d(10)\n",
    "mat1d100 = generateMat1d(100)\n",
    "mat1d1000 = generateMat1d(1000)"
   ]
  },
  {
   "cell_type": "code",
   "execution_count": 9,
   "metadata": {},
   "outputs": [
    {
     "name": "stdout",
     "output_type": "stream",
     "text": [
      "[[('2d10', 0.0005154000000118231), ('2d100', 0.039094000000005735), ('2d1000', 7.938279200000011)], [('1d10', 0.0007310000000018135), ('1d100', 0.001967899999982592), ('1d100', 0.20525420000001304)]]\n"
     ]
    }
   ],
   "source": [
    "def mat2dProduct(mat1,mat2):\n",
    "    if (mat1.shape[0] == mat2.shape[1]) and (mat1.shape[1] == mat1.shape[0]):\n",
    "        mat2T = mat2.transpose()\n",
    "        ret = np.zeros((mat1.shape[0],mat2.shape[1]))\n",
    "        for i in range(mat1.shape[0]):\n",
    "            for j in range(mat2.shape[1]):\n",
    "                ret[i][j] = np.sum(mat1[i] * mat2T[j])\n",
    "        return ret\n",
    "    else:\n",
    "        return False\n",
    "\n",
    "def mat1dProduct(mat1,mat2):\n",
    "    if len(mat1) == len(mat2):\n",
    "        ret = []\n",
    "        for i in range(len(mat1)):\n",
    "            ret.append((mat1[i][0],mat1[i][1],(mat1[i][2]*mat2[i][2])))\n",
    "        return ret\n",
    "    else:\n",
    "        return False\n",
    "\n",
    "graph2d = []\n",
    "t1 = time.clock()\n",
    "v = mat2dProduct(mat2d10,mat2d10)\n",
    "t2 = time.clock()\n",
    "graph2d.append((\"2d10\",(t2-t1)))\n",
    "t1 = time.clock()\n",
    "v = mat2dProduct(mat2d100,mat2d100)\n",
    "t2 = time.clock()\n",
    "graph2d.append((\"2d100\",(t2-t1)))\n",
    "t1 = time.clock()\n",
    "v = mat2dProduct(mat2d1000,mat2d1000)\n",
    "t2 = time.clock()\n",
    "graph2d.append((\"2d1000\",(t2-t1)))\n",
    "\n",
    "graph1d = []\n",
    "t1 = time.clock()\n",
    "v = mat1dProduct(mat1d10,mat1d10)\n",
    "t2 = time.clock()\n",
    "graph1d.append((\"1d10\",(t2-t1)))\n",
    "t1 = time.clock()\n",
    "v = mat1dProduct(mat1d100,mat1d100)\n",
    "t2 = time.clock()\n",
    "graph1d.append((\"1d100\",(t2-t1)))\n",
    "t1 = time.clock()\n",
    "v = mat1dProduct(mat1d1000,mat1d1000)\n",
    "t2 = time.clock()\n",
    "graph1d.append((\"1d100\",(t2-t1)))\n",
    "\n",
    "graph = [graph2d,graph1d]\n",
    "print(graph)"
   ]
  },
  {
   "cell_type": "code",
   "execution_count": 11,
   "metadata": {},
   "outputs": [
    {
     "data": {
      "image/png": "[encoded data removed]",
      "text/plain": [
       "<Figure size 432x288 with 1 Axes>"
      ]
     },
     "metadata": {
      "needs_background": "light"
     },
     "output_type": "display_data"
    }
   ],
   "source": [
    "import matplotlib.pyplot as plt\n",
    "\n",
    "x1 = [10,100,1000]\n",
    "y1 = [graph[0][0][1],graph[0][1][1],graph[0][2][1]]\n",
    "x2 = [10,100,1000]\n",
    "y2 = [graph[1][0][1],graph[1][1][1],graph[1][2][1]]\n",
    "\n",
    "plt.plot(x1, y1, label = \"Matrice 2d\")\n",
    "plt.plot(x2, y2, label = \"Matrice 1d\")\n",
    "plt.xlabel('Taille de la matrice (N x N)')\n",
    "plt.ylabel(\"Temps d'exécution (en s)\")  \n",
    "plt.title('Comparaison du produit de 2 matrices de dimension différente') \n",
    "plt.legend() \n",
    "plt.show() "
   ]
  },
  {
   "cell_type": "markdown",
   "metadata": {},
   "source": [
    "### Exercice 3"
   ]
  },
  {
   "cell_type": "code",
   "execution_count": 42,
   "metadata": {},
   "outputs": [
    {
     "name": "stdout",
     "output_type": "stream",
     "text": [
      "[[1, 2, 3, 4], [4, 6]]\n"
     ]
    }
   ],
   "source": [
    "def partitionRec(arr,indice,until):\n",
    "    if indice == len(arr):\n",
    "        if until == len(arr)-1:\n",
    "            return False\n",
    "        return partitionRec(arr,0,until+1)\n",
    "    if sum(arr[indice:until]) == (sum(arr) - sum(arr[indice:until])):\n",
    "        ret = list(arr)\n",
    "        del(ret[indice:until])\n",
    "        return [arr[indice:until],ret]\n",
    "    return partitionRec(arr,indice+1,until)\n",
    "        \n",
    "arr = [1,4,2,6,3,4]\n",
    "def partition(arr):\n",
    "    ret = list(arr)\n",
    "    ret.sort()\n",
    "    return partitionRec(ret,0,0)\n",
    "print(partition(arr))"
   ]
  },
  {
   "cell_type": "markdown",
   "metadata": {},
   "source": [
    "### Exercice 4"
   ]
  },
  {
   "cell_type": "code",
   "execution_count": 10,
   "metadata": {},
   "outputs": [
    {
     "data": {
      "image/png": "[encoded data removed]",
      "text/plain": [
       "<Figure size 432x288 with 1 Axes>"
      ]
     },
     "metadata": {
      "needs_background": "light"
     },
     "output_type": "display_data"
    }
   ],
   "source": [
    "def f1(n):\n",
    "    ret = 0\n",
    "    for i in range(1, n-1):\n",
    "        for j in range(i+1,n):\n",
    "            for k in range(1,j):\n",
    "                ret = ret + 1\n",
    "    return ret\n",
    "\n",
    "def f2(n):\n",
    "    ret = 0\n",
    "    for i in range(1,n):\n",
    "        for j in range(1,i):\n",
    "            for k in range(j,i):\n",
    "                ret = ret + 1\n",
    "    return ret\n",
    "\n",
    "x1 = [5,10,50,100,500,1000]\n",
    "y1 = []\n",
    "for i in range(len(x1)):\n",
    "    y1.append(f1(x1[i]))\n",
    "\n",
    "x2 = [5,10,50,100,500,1000]\n",
    "y2 = []\n",
    "for i in range(len(x2)):\n",
    "    y2.append(f2(x2[i]))\n",
    "    \n",
    "plt.plot(x1, y1, label = \"Fonction f1\")\n",
    "plt.plot(x2, y2, label = \"Fonction f2\")\n",
    "plt.xlabel('N')\n",
    "plt.ylabel(\"Nombre d'exécution\")  \n",
    "plt.title(\"Étude d'algorithme\") \n",
    "plt.legend() \n",
    "plt.show() "
   ]
  }
 ],
 "metadata": {
  "kernelspec": {
   "display_name": "Python 3",
   "language": "python",
   "name": "python3"
  },
  "language_info": {
   "codemirror_mode": {
    "name": "ipython",
    "version": 3
   },
   "file_extension": ".py",
   "mimetype": "text/x-python",
   "name": "python",
   "nbconvert_exporter": "python",
   "pygments_lexer": "ipython3",
   "version": "3.6.8"
  }
 },
 "nbformat": 4,
 "nbformat_minor": 2
}
