{
 "cells": [
  {
   "cell_type": "markdown",
   "metadata": {},
   "source": [
    "## TP1"
   ]
  },
  {
   "cell_type": "markdown",
   "metadata": {},
   "source": [
    "### Exercice 1"
   ]
  },
  {
   "cell_type": "code",
   "execution_count": 50,
   "metadata": {},
   "outputs": [],
   "source": [
    "import numpy as np\n",
    "from math import floor\n",
    "import time\n",
    "\n",
    "arr = np.random.randint(0,100,10000)\n",
    "sortedArr = np.array(arr)\n",
    "sortedArr.sort()\n",
    "\n",
    "def rechercheSequentielle(aTrouve, arr):\n",
    "    for i in range(arr.size):\n",
    "        if arr[i] == aTrouve:\n",
    "            return True\n",
    "    return False\n",
    "\n",
    "def rechercheDichotomique(aTrouve, sortedArr):\n",
    "    ret = False\n",
    "    if sortedArr.size == 1:\n",
    "        if sortedArr[0] == aTrouve:\n",
    "            ret = True\n",
    "    else:\n",
    "        mid = floor(sortedArr.size/2)\n",
    "        if sortedArr[mid] <= aTrouve:\n",
    "            ret = rechercheDichotomique(aTrouve, sortedArr[mid:sortedArr.size])\n",
    "        else:\n",
    "            ret = rechercheDichotomique(aTrouve, sortedArr[0:mid+1])\n",
    "    return ret\n"
   ]
  },
  {
   "cell_type": "markdown",
   "metadata": {},
   "source": [
    "#### Cas d'un élément qui se trouve dans le tableau :"
   ]
  },
  {
   "cell_type": "markdown",
   "metadata": {},
   "source": [
    "##### Recherche séquentielle :"
   ]
  },
  {
   "cell_type": "code",
   "execution_count": 51,
   "metadata": {},
   "outputs": [
    {
     "name": "stdout",
     "output_type": "stream",
     "text": [
      "Trouvé ? True\n",
      "Temps d'exécution dans le meilleur cas : 9.07999997252773e-05 s\n",
      "Trouvé ? True\n",
      "Temps d'exécution dans le pire cas : 0.0031081000001904613 s\n",
      "Temps moyen : 0.0015994499999578693 s\n"
     ]
    }
   ],
   "source": [
    "nbExistant = 120\n",
    "arr[0] = nbExistant\n",
    "t1a = time.clock()\n",
    "res = rechercheSequentielle(nbExistant, arr)\n",
    "t2a = time.clock()\n",
    "tma = t2a-t1a\n",
    "print(\"Trouvé ?\",res)\n",
    "print(\"Temps d'exécution dans le meilleur cas :\", tma, \"s\")\n",
    "arr[0] = 0\n",
    "arr[arr.size-1] = nbExistant\n",
    "t1b = time.clock()\n",
    "res = rechercheSequentielle(nbExistant, arr)\n",
    "t2b = time.clock()\n",
    "tmb = t2b-t1b\n",
    "print(\"Trouvé ?\",res)\n",
    "print(\"Temps d'exécution dans le pire cas :\", tmb, \"s\")\n",
    "print(\"Temps moyen :\",(tma+tmb)/2, \"s\")\n",
    "arr[arr.size-1] = 0"
   ]
  },
  {
   "cell_type": "markdown",
   "metadata": {},
   "source": [
    "##### Recherche dichotomique :"
   ]
  },
  {
   "cell_type": "code",
   "execution_count": 52,
   "metadata": {},
   "outputs": [
    {
     "name": "stdout",
     "output_type": "stream",
     "text": [
      "Trouvé ? True\n",
      "Temps d'exécution : 6.970000004002941e-05 s\n"
     ]
    }
   ],
   "source": [
    "nbExistant = 120\n",
    "sortedArr[4684] = nbExistant\n",
    "sortedArr.sort()\n",
    "t1 = time.clock()\n",
    "res = rechercheDichotomique(nbExistant, sortedArr)\n",
    "t2 = time.clock()\n",
    "print(\"Trouvé ?\", res)\n",
    "print(\"Temps d'exécution :\",(t2-t1), \"s\")\n",
    "sortedArr[4684] = 0\n",
    "sortedArr.sort()"
   ]
  },
  {
   "cell_type": "markdown",
   "metadata": {},
   "source": [
    "#### Cas d'un élément qui ne se trouve pas dans le tableau"
   ]
  },
  {
   "cell_type": "markdown",
   "metadata": {},
   "source": [
    "##### Recherche séquentielle : "
   ]
  },
  {
   "cell_type": "code",
   "execution_count": 53,
   "metadata": {},
   "outputs": [
    {
     "name": "stdout",
     "output_type": "stream",
     "text": [
      "Trouvé ? False\n",
      "Temps d'exécution : 0.0019019000001208042 s\n"
     ]
    }
   ],
   "source": [
    "nbInexistant = 120\n",
    "t1 = time.clock()\n",
    "res = rechercheSequentielle(nbInexistant, arr)\n",
    "t2 = time.clock()\n",
    "print(\"Trouvé ?\",res)\n",
    "print(\"Temps d'exécution :\", (t2-t1),\"s\")"
   ]
  },
  {
   "cell_type": "markdown",
   "metadata": {},
   "source": [
    "On remarque que le temps ce temps d'exécution correspond à celui de la recherche dans le pire cas ce qui est logique car l'algorithme doit parcourir le tableau dans tout les cas."
   ]
  },
  {
   "cell_type": "markdown",
   "metadata": {},
   "source": [
    "##### Recherche dichotomique"
   ]
  },
  {
   "cell_type": "code",
   "execution_count": 55,
   "metadata": {},
   "outputs": [
    {
     "name": "stdout",
     "output_type": "stream",
     "text": [
      "Trouvé ? False\n",
      "Temps d'exécution : 5.449999980555731e-05\n"
     ]
    }
   ],
   "source": [
    "nbInexistant = 140\n",
    "t1 = time.clock()\n",
    "res = rechercheDichotomique(nbInexistant,sortedArr)\n",
    "t2 = time.clock()\n",
    "print(\"Trouvé ?\",res)\n",
    "print(\"Temps d'exécution :\",(t2-t1), \"s\")"
   ]
  },
  {
   "cell_type": "markdown",
   "metadata": {},
   "source": [
    "### Exercice 2"
   ]
  },
  {
   "cell_type": "code",
   "execution_count": 74,
   "metadata": {},
   "outputs": [
    {
     "ename": "TypeError",
     "evalue": "data type not understood",
     "output_type": "error",
     "traceback": [
      "\u001b[1;31m---------------------------------------------------------------------------\u001b[0m",
      "\u001b[1;31mTypeError\u001b[0m                                 Traceback (most recent call last)",
      "\u001b[1;32m<ipython-input-74-a7ca0a9f20de>\u001b[0m in \u001b[0;36m<module>\u001b[1;34m\u001b[0m\n\u001b[0;32m      1\u001b[0m \u001b[0mmat2d\u001b[0m \u001b[1;33m=\u001b[0m \u001b[0mnp\u001b[0m\u001b[1;33m.\u001b[0m\u001b[0mzeros\u001b[0m\u001b[1;33m(\u001b[0m\u001b[0mshape\u001b[0m\u001b[1;33m=\u001b[0m\u001b[1;33m(\u001b[0m\u001b[1;36m10\u001b[0m\u001b[1;33m,\u001b[0m\u001b[1;36m10\u001b[0m\u001b[1;33m)\u001b[0m\u001b[1;33m)\u001b[0m\u001b[1;33m\u001b[0m\u001b[1;33m\u001b[0m\u001b[0m\n\u001b[1;32m----> 2\u001b[1;33m \u001b[0mmat1d\u001b[0m \u001b[1;33m=\u001b[0m \u001b[0mnp\u001b[0m\u001b[1;33m.\u001b[0m\u001b[0mzeros\u001b[0m\u001b[1;33m(\u001b[0m\u001b[1;36m100\u001b[0m\u001b[1;33m,\u001b[0m\u001b[1;36m3\u001b[0m\u001b[1;33m)\u001b[0m\u001b[1;33m\u001b[0m\u001b[1;33m\u001b[0m\u001b[0m\n\u001b[0m\u001b[0;32m      3\u001b[0m \u001b[0mprint\u001b[0m\u001b[1;33m(\u001b[0m\u001b[0mmat1d\u001b[0m\u001b[1;33m)\u001b[0m\u001b[1;33m\u001b[0m\u001b[1;33m\u001b[0m\u001b[0m\n\u001b[0;32m      4\u001b[0m \u001b[1;33m\u001b[0m\u001b[0m\n\u001b[0;32m      5\u001b[0m \u001b[1;32mdef\u001b[0m \u001b[0maddMat2d\u001b[0m\u001b[1;33m(\u001b[0m\u001b[0mmat\u001b[0m\u001b[1;33m)\u001b[0m\u001b[1;33m:\u001b[0m\u001b[1;33m\u001b[0m\u001b[1;33m\u001b[0m\u001b[0m\n",
      "\u001b[1;31mTypeError\u001b[0m: data type not understood"
     ]
    }
   ],
   "source": [
    "mat2d = np.zeros(shape=(10,10))\n",
    "mat1d = np.zeros(100) //A voir mettre tuple\n",
    "print(mat1d)\n",
    "\n",
    "def addMat2d(mat):\n",
    "    ret = 0\n",
    "    for i in range(mat.shape[0]):\n",
    "        for j in range(mat.shape[1]):\n",
    "            ret += mat[i][j]\n",
    "    return ret"
   ]
  },
  {
   "cell_type": "code",
   "execution_count": null,
   "metadata": {},
   "outputs": [],
   "source": []
  }
 ],
 "metadata": {
  "kernelspec": {
   "display_name": "Python 3",
   "language": "python",
   "name": "python3"
  },
  "language_info": {
   "codemirror_mode": {
    "name": "ipython",
    "version": 3
   },
   "file_extension": ".py",
   "mimetype": "text/x-python",
   "name": "python",
   "nbconvert_exporter": "python",
   "pygments_lexer": "ipython3",
   "version": "3.6.8"
  }
 },
 "nbformat": 4,
 "nbformat_minor": 2
}
