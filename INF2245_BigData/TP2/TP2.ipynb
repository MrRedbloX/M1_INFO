{
 "cells": [
  {
   "cell_type": "markdown",
   "metadata": {},
   "source": [
    "# TP2"
   ]
  },
  {
   "cell_type": "code",
   "execution_count": 61,
   "metadata": {},
   "outputs": [],
   "source": [
    "import numpy as np\n",
    "from numpy.random import randint as rand\n",
    "from sympy.utilities.iterables import multiset_permutations as permute\n",
    "\n",
    "def generateVectors(n): # (utilité,poids)\n",
    "    ret = []\n",
    "    for i in range(n):\n",
    "        ret.append((rand(1,11),rand(1,11)))\n",
    "    return ret\n",
    "\n",
    "class Bag:\n",
    "    def __init__(self,M):\n",
    "        self.M = M\n",
    "        self.content = []\n",
    "        self.size = 0\n",
    "    def add(self,e):\n",
    "        if(self.size + e[1] > self.M):\n",
    "            return False\n",
    "        self.content.append(e)\n",
    "        self.size = self.size + e[1]\n",
    "        return True\n",
    "    def getUtilitySum(self):\n",
    "        ret = 0\n",
    "        for i in range(len(self.content)):\n",
    "            ret += self.content[i][0]\n",
    "        return ret\n",
    "    def clear(self):\n",
    "        self.content = []\n",
    "        size = 0"
   ]
  },
  {
   "cell_type": "markdown",
   "metadata": {},
   "source": [
    "## Exercice 1"
   ]
  },
  {
   "cell_type": "markdown",
   "metadata": {},
   "source": [
    "### Sans répétition"
   ]
  },
  {
   "cell_type": "code",
   "execution_count": 65,
   "metadata": {},
   "outputs": [
    {
     "name": "stdout",
     "output_type": "stream",
     "text": [
      "[(6, 10), (3, 7), (3, 9), (3, 2), (8, 8)]\n",
      "[]\n"
     ]
    }
   ],
   "source": [
    "def bruteForceSansRep(n):\n",
    "    sac = Bag(5*n)\n",
    "    vects = generateVectors(n)\n",
    "    print(vects)\n",
    "    maxUtility = 0\n",
    "    chooseConfig = []\n",
    "    for p in permute(vects):\n",
    "        while(len(p) < 0):\n",
    "            if sac.add(p[0]) == False: #A revoir\n",
    "                break\n",
    "            del(p[0])\n",
    "        s = sac.getUtilitySum()\n",
    "        if maxUtility < s:\n",
    "            maxUtility = s\n",
    "            chooseConfig = list(sac.content)\n",
    "    return chooseConfig\n",
    "\n",
    "print(bruteForceSansRep(5))"
   ]
  }
 ],
 "metadata": {
  "kernelspec": {
   "display_name": "Python 3",
   "language": "python",
   "name": "python3"
  },
  "language_info": {
   "codemirror_mode": {
    "name": "ipython",
    "version": 3
   },
   "file_extension": ".py",
   "mimetype": "text/x-python",
   "name": "python",
   "nbconvert_exporter": "python",
   "pygments_lexer": "ipython3",
   "version": "3.6.8"
  }
 },
 "nbformat": 4,
 "nbformat_minor": 2
}
