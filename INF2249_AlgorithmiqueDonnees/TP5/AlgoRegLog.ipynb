{
 "cells": [
  {
   "cell_type": "markdown",
   "metadata": {},
   "source": [
    "# TD 3 - La régression logistique - algo. de descente du gradient"
   ]
  },
  {
   "cell_type": "markdown",
   "metadata": {},
   "source": [
    "## Packages utiles"
   ]
  },
  {
   "cell_type": "code",
   "execution_count": null,
   "metadata": {},
   "outputs": [],
   "source": [
    "from sklearn import datasets # donnees\n",
    "import os # rep de travail\n",
    "import pandas as pd # data analysis\n",
    "from scipy import stats # stat desc\n",
    "import matplotlib.pyplot as plt # graphiques\n",
    "import numpy as np # maths\n",
    "import sklearn.preprocessing # standardisation des donnees\n",
    "from collections import Counter # freq table\n",
    "\n",
    "from sklearn.linear_model import LogisticRegression    #Logistic Regression\n",
    "from sklearn.model_selection import train_test_split # train and test samples\n",
    "from sklearn.metrics import confusion_matrix # confusion matrix\n",
    "from scipy import optimize # algos d'optim"
   ]
  },
  {
   "cell_type": "markdown",
   "metadata": {},
   "source": [
    "## Les données"
   ]
  },
  {
   "cell_type": "code",
   "execution_count": null,
   "metadata": {},
   "outputs": [],
   "source": [
    "#-- Import des données\n",
    "breast_cancer = datasets.load_breast_cancer()\n",
    "print(breast_cancer.DESCR)\n",
    "#Data Set Characteristics:\n",
    "#    :Number of Instances: 569\n",
    "#\n",
    "#    :Number of Attributes: 30 numeric, predictive attributes and the class\n",
    "#\n",
    "#    :Attribute Information:\n",
    "#        - radius (mean of distances from center to points on the perimeter)\n",
    "#        - texture (standard deviation of gray-scale values)\n",
    "#        - perimeter\n",
    "#        - area\n",
    "#        - smoothness (local variation in radius lengths)\n",
    "#        - compactness (perimeter^2 / area - 1.0)\n",
    "#        - concavity (severity of concave portions of the contour)\n",
    "#        - concave points (number of concave portions of the contour)\n",
    "#        - symmetry\n",
    "#        - fractal dimension (\"coastline approximation\" - 1)\n",
    "#\n",
    "#        The mean, standard error, and \"worst\" or largest (mean of the three\n",
    "#        largest values) of these features were computed for each image,\n",
    "#        resulting in 30 features.  For instance, field 3 is Mean Radius, field\n",
    "#        13 is Radius SE, field 23 is Worst Radius.\n",
    "#\n",
    "#        - class:\n",
    "#                - WDBC-Malignant\n",
    "#                - WDBC-Benign\n"
   ]
  },
  {
   "cell_type": "code",
   "execution_count": null,
   "metadata": {},
   "outputs": [],
   "source": [
    "#-- Stat. descriptives\n",
    "dat=breast_cancer.data\n",
    "Y=breast_cancer.target\n",
    "names = breast_cancer.feature_names\n",
    "#%% Stat descriptives\n",
    "df=pd.DataFrame(dat)\n",
    "df.columns=names # pour ajouter les noms de colonnes\n",
    "Counter(Y) # nb of cases / controls\n",
    "df.groupby(Y).mean()\n"
   ]
  },
  {
   "cell_type": "code",
   "execution_count": null,
   "metadata": {},
   "outputs": [],
   "source": [
    "#-- Plots"
   ]
  },
  {
   "cell_type": "markdown",
   "metadata": {},
   "source": [
    "## Algo de descente du gradient pour la régression logistique\n",
    "\n",
    "code des fonctions et tests de ces fonctions dans le cas de la régression logistique simple et multiple\n"
   ]
  },
  {
   "cell_type": "code",
   "execution_count": null,
   "metadata": {},
   "outputs": [],
   "source": [
    "###### -- standardisation des X\n",
    "def standardisation():\n",
    "\n",
    "\n",
    "#-- Test 1 - reg simple\n",
    "\n",
    "\n",
    "#-- Test 2 - reg multiple"
   ]
  },
  {
   "cell_type": "code",
   "execution_count": null,
   "metadata": {},
   "outputs": [],
   "source": [
    "#-- Modèle\n",
    "# attention X : contient X^0 = [1,...,1] + les X^j\n",
    "def f():\n",
    "\n",
    "\n",
    "#-- Test 1 - reg simple\n",
    "\n",
    "\n",
    "#-- Test 2 - reg multiple\n",
    "\n",
    "\n"
   ]
  },
  {
   "cell_type": "code",
   "execution_count": null,
   "metadata": {},
   "outputs": [],
   "source": [
    "#-- Fonction-cout\n",
    "# ordre des arguments : beta en 1er pour comparer avec la fonction d'optim\n",
    "def cout():\n",
    "\n",
    "#-- Test 1 - reg simple\n",
    "\n",
    "#-- Test 2 - reg multiple\n"
   ]
  },
  {
   "cell_type": "code",
   "execution_count": null,
   "metadata": {},
   "outputs": [],
   "source": [
    "#-- Gradient\n",
    "# ordre des arguments : beta en 1er pour comparer avec la fonction d'optim\n",
    "def grad():\n",
    "\n",
    "#-- Test 1 - reg simple\n",
    "\n",
    "\n",
    "#-- Test 2 - reg multiple\n",
    "\n"
   ]
  },
  {
   "cell_type": "code",
   "execution_count": null,
   "metadata": {},
   "outputs": [],
   "source": [
    "#-- Algo de descente du gradient\n",
    "def grad_descent():\n"
   ]
  },
  {
   "cell_type": "markdown",
   "metadata": {},
   "source": [
    "## Test avec plusieurs initialisations \n",
    "visualisation de la fonction cout et des valeurs des paramètres au cours des itérations"
   ]
  },
  {
   "cell_type": "code",
   "execution_count": null,
   "metadata": {},
   "outputs": [],
   "source": [
    "#-- Test 1  - reg simple\n",
    "\n",
    "# init 1\n",
    "\n",
    "# init 2\n",
    "\n",
    "# init 3\n",
    "\n",
    "# ...\n",
    "\n",
    "\n",
    "\n",
    "#-- Test 2 - reg multiple\n",
    "\n",
    "# init 1\n",
    "\n",
    "# init 2\n",
    "\n",
    "# init 3\n",
    "\n",
    "# ...\n",
    "\n",
    "\n",
    "\n",
    "\n"
   ]
  },
  {
   "cell_type": "markdown",
   "metadata": {},
   "source": [
    "COMMENTAIRES: "
   ]
  },
  {
   "cell_type": "markdown",
   "metadata": {},
   "source": [
    "## Test avec plusieurs pas de descente\n",
    "visualisation de la fonction cout et des valeurs des paramètres au cours des itérations"
   ]
  },
  {
   "cell_type": "code",
   "execution_count": null,
   "metadata": {},
   "outputs": [],
   "source": [
    "#-- Test 1  - reg simple\n",
    "\n",
    "# alpha 1\n",
    "\n",
    "# alpha 2\n",
    "\n",
    "# alpha 3\n",
    "\n",
    "# ...\n",
    "\n",
    "\n",
    "\n",
    "#-- Test 2 - reg multiple\n",
    "\n",
    "# alpha 1\n",
    "\n",
    "# alpha 2\n",
    "\n",
    "# alpha 3\n",
    "\n",
    "# ...\n"
   ]
  },
  {
   "cell_type": "markdown",
   "metadata": {},
   "source": [
    "COMMENTAIRES:"
   ]
  },
  {
   "cell_type": "code",
   "execution_count": null,
   "metadata": {},
   "outputs": [],
   "source": [
    "#-- Pour comparer\n",
    "# avec les algos d'optim"
   ]
  },
  {
   "cell_type": "markdown",
   "metadata": {},
   "source": [
    "COMMENTAIRES: "
   ]
  },
  {
   "cell_type": "code",
   "execution_count": null,
   "metadata": {},
   "outputs": [],
   "source": []
  }
 ],
 "metadata": {
  "kernelspec": {
   "display_name": "Python 3",
   "language": "python",
   "name": "python3"
  },
  "language_info": {
   "codemirror_mode": {
    "name": "ipython",
    "version": 3
   },
   "file_extension": ".py",
   "mimetype": "text/x-python",
   "name": "python",
   "nbconvert_exporter": "python",
   "pygments_lexer": "ipython3",
   "version": "3.7.4"
  }
 },
 "nbformat": 4,
 "nbformat_minor": 4
}
