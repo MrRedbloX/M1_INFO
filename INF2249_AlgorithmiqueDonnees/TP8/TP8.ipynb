{
 "cells": [
  {
   "cell_type": "markdown",
   "metadata": {},
   "source": [
    "# TP08 - Sélection de modèles\n",
    "\n",
    "L'objectif de ce TP est de mettre en oeuvre une \n",
    "* de mesurer le risque empirique d'un modèle d'apprentissage supervisé pour différentes tailles d'échantillon (_i.e._, différentes quantités d'échantillons d'apprentissage)\n",
    "* de sélectionner la valeur optimale et d'évaluer la capacité de généralisation d'un modèle d'apprentissage supervisé (classification) en utilisant \n",
    " * un découpage en données d'apprentissage, de validation et de test \n",
    " * le principe de la validation croisée"
   ]
  },
  {
   "cell_type": "code",
   "execution_count": 1,
   "metadata": {},
   "outputs": [],
   "source": [
    "import numpy as np\n",
    "import pandas as pd\n",
    "\n",
    "import random\n",
    "\n",
    "import seaborn as sn\n",
    "\n",
    "import matplotlib.pyplot as plt\n",
    "%matplotlib inline\n",
    "\n",
    "from sklearn import datasets\n",
    "from sklearn.neighbors import KNeighborsClassifier\n",
    "from sklearn.metrics import confusion_matrix, accuracy_score\n",
    "from sklearn.model_selection import train_test_split\n",
    "from sklearn.model_selection import cross_val_score\n",
    "from numpy.random import randint"
   ]
  },
  {
   "cell_type": "markdown",
   "metadata": {},
   "source": [
    "## Partie 1. Les données\n",
    "\n",
    "Les données utilisées dans le cadre de ce TP sont des images de chiffres écrit manuscritement. La reconnaissance automatique de ces chiffres (et plus généralement d'écriture manuscrite) est un problème classique mais complexe. Elle est notamment utilisée dans les systsèmes de tri automatique du courrier.\n",
    "Les données utilisées pour ce TP correspondent à un extrait simplifié des données MNIST (Modified National Institure of Standards and Technology) qui contient à l'origine 70 000 images de chiffres de 0 à 9. \n",
    "\n",
    "Chaque image (_i.e._, une observation) a une taille de 8 pix. $\\times$ 8 pix. Ce qui corresponds à un vecteur composées de $d=64$ variables ($\\mathbf{x}_i \\in \\mathbb{R}^d$ pour $1\\le i\\le m$).\n",
    "\n",
    "**Note** : Les imagettes de taille de 8 pix. $\\times$ 8 pix sont obtenues en applicant une réduction de dimension aux images binaires originales de taille 32 pix. $\\times$ 32 pix. Les images originales ont été découpées en blocs de 4 pix. $\\times$ 4 pix. (sans chevauchement). Dans chaque bloc, on a compté le nombre de \"1\" qui sert de nouvelles valeurs de pixel pour créer une image (non-binaire) de taille 8 pix. $\\times$ 8 pix avec chaque pixel pouvant avoir une valeur comprise entre 0 et 16."
   ]
  },
  {
   "cell_type": "code",
   "execution_count": 2,
   "metadata": {},
   "outputs": [
    {
     "name": "stdout",
     "output_type": "stream",
     "text": [
      ".. _digits_dataset:\n",
      "\n",
      "Optical recognition of handwritten digits dataset\n",
      "--------------------------------------------------\n",
      "\n",
      "**Data Set Characteristics:**\n",
      "\n",
      "    :Number of Instances: 5620\n",
      "    :Number of Attributes: 64\n",
      "    :Attribute Information: 8x8 image of integer pixels in the range 0..16.\n",
      "    :Missing Attribute Values: None\n",
      "    :Creator: E. Alpaydin (alpaydin '@' boun.edu.tr)\n",
      "    :Date: July; 1998\n",
      "\n",
      "This is a copy of the test set of the UCI ML hand-written digits datasets\n",
      "https://archive.ics.uci.edu/ml/datasets/Optical+Recognition+of+Handwritten+Digits\n",
      "\n",
      "The data set contains images of hand-written digits: 10 classes where\n",
      "each class refers to a digit.\n",
      "\n",
      "Preprocessing programs made available by NIST were used to extract\n",
      "normalized bitmaps of handwritten digits from a preprinted form. From a\n",
      "total of 43 people, 30 contributed to the training set and different 13\n",
      "to the test set. 32x32 bitmaps are divided into nonoverlapping blocks of\n",
      "4x4 and the number of on pixels are counted in each block. This generates\n",
      "an input matrix of 8x8 where each element is an integer in the range\n",
      "0..16. This reduces dimensionality and gives invariance to small\n",
      "distortions.\n",
      "\n",
      "For info on NIST preprocessing routines, see M. D. Garris, J. L. Blue, G.\n",
      "T. Candela, D. L. Dimmick, J. Geist, P. J. Grother, S. A. Janet, and C.\n",
      "L. Wilson, NIST Form-Based Handprint Recognition System, NISTIR 5469,\n",
      "1994.\n",
      "\n",
      ".. topic:: References\n",
      "\n",
      "  - C. Kaynak (1995) Methods of Combining Multiple Classifiers and Their\n",
      "    Applications to Handwritten Digit Recognition, MSc Thesis, Institute of\n",
      "    Graduate Studies in Science and Engineering, Bogazici University.\n",
      "  - E. Alpaydin, C. Kaynak (1998) Cascading Classifiers, Kybernetika.\n",
      "  - Ken Tang and Ponnuthurai N. Suganthan and Xi Yao and A. Kai Qin.\n",
      "    Linear dimensionalityreduction using relevance weighted LDA. School of\n",
      "    Electrical and Electronic Engineering Nanyang Technological University.\n",
      "    2005.\n",
      "  - Claudio Gentile. A New Approximate Maximal Margin Classification\n",
      "    Algorithm. NIPS. 2000.\n"
     ]
    }
   ],
   "source": [
    "#-- Chargement des données\n",
    "digits = datasets.load_digits()\n",
    "X = digits.data\n",
    "Y = digits.target\n",
    "print(digits.DESCR)"
   ]
  },
  {
   "cell_type": "code",
   "execution_count": 3,
   "metadata": {},
   "outputs": [
    {
     "data": {
      "text/plain": [
       "<Figure size 432x288 with 0 Axes>"
      ]
     },
     "metadata": {},
     "output_type": "display_data"
    },
    {
     "data": {
      "image/png": "[encoded data removed]",
      "text/plain": [
       "<Figure size 288x288 with 1 Axes>"
      ]
     },
     "metadata": {},
     "output_type": "display_data"
    },
    {
     "name": "stdout",
     "output_type": "stream",
     "text": [
      "Variables:  [ 0.  0. 12. 10.  0.  0.  0.  0.  0.  0. 14. 16. 16. 14.  0.  0.  0.  0.\n",
      " 13. 16. 15. 10.  1.  0.  0.  0. 11. 16. 16.  7.  0.  0.  0.  0.  0.  4.\n",
      "  7. 16.  7.  0.  0.  0.  0.  0.  4. 16.  9.  0.  0.  0.  5.  4. 12. 16.\n",
      "  4.  0.  0.  0.  9. 16. 16. 10.  0.  0.]\n",
      "Classe asociée:  5\n"
     ]
    },
    {
     "data": {
      "text/plain": [
       "<Figure size 432x288 with 0 Axes>"
      ]
     },
     "metadata": {},
     "output_type": "display_data"
    },
    {
     "data": {
      "image/png": "[encoded data removed]",
      "text/plain": [
       "<Figure size 288x288 with 1 Axes>"
      ]
     },
     "metadata": {},
     "output_type": "display_data"
    },
    {
     "name": "stdout",
     "output_type": "stream",
     "text": [
      "Variables:  [ 0.  2.  9. 15. 14.  9.  3.  0.  0.  4. 13.  8.  9. 16.  8.  0.  0.  0.\n",
      "  0.  6. 14. 15.  3.  0.  0.  0.  0. 11. 14.  2.  0.  0.  0.  0.  0.  2.\n",
      " 15. 11.  0.  0.  0.  0.  0.  0.  2. 15.  4.  0.  0.  1.  5.  6. 13. 16.\n",
      "  6.  0.  0.  2. 12. 12. 13. 11.  0.  0.]\n",
      "Classe asociée:  3\n"
     ]
    }
   ],
   "source": [
    "#-- Visualisation de données\n",
    "disp_imgno = [5, 13] # Tester d'autres valeurs\n",
    "for ll in disp_imgno:\n",
    "    plt.figure()\n",
    "    plt.matshow(digits.images[ll])\n",
    "    for (i, j), z in np.ndenumerate(digits.images[ll]):\n",
    "        if z!=0:\n",
    "            plt.text(j, i, '{:d}'.format(int(z)), ha='center', va='center')\n",
    "    plt.gca().set_xticks([])\n",
    "    plt.gca().set_yticks([])\n",
    "    plt.show()\n",
    "    print(\"Variables: \", X[ll,:])\n",
    "    print(\"Classe asociée: \", Y[ll])"
   ]
  },
  {
   "cell_type": "markdown",
   "metadata": {},
   "source": [
    "**Questions** : \n",
    "* Quel est le lien entre les images (`digit.images[ll]`) et les variables (`X[ll,:]`) + la classe associée (`Y[ll]`)? \n",
    "* Quel est le nombre de données d'apprentissage ?"
   ]
  },
  {
   "cell_type": "markdown",
   "metadata": {},
   "source": [
    "X[ll,:] et digit.images[ll] correspond à l'image à la position ll qui sont respectivement non dimensionnée et dimensionnée. Y[ll] correspond à la classe associée à cette image. Si le résultat est n, alors on peut dire que l'image représente le chiffre n."
   ]
  },
  {
   "cell_type": "markdown",
   "metadata": {},
   "source": [
    "Le nombre de données d'apprentissage est la taille de digit.images : 1797."
   ]
  },
  {
   "cell_type": "markdown",
   "metadata": {},
   "source": [
    "## Partie 2. Influence de la taille de l'échantillon\n",
    "L'objectif ici est d'évaluer les performances d'un algorithme de classification (risque empirique et risque réel), le $k$-Plus Proches Voisins (PPV), lorsque le nombre de données d'apprentissage augmente ($m$).\n",
    "\n",
    "**Question** : Rappelez brièvement le principe de fonctionnement du $k$-PPV."
   ]
  },
  {
   "cell_type": "raw",
   "metadata": {},
   "source": [
    "Principe de fonctionnement du k-PPV:\n",
    "\n",
    "Pour un échantillon donné, on regarde ses k plus proches voisins afin de lui attribuer la classe qui est majoritaire. On répète ce procédé pour tout les échantillons."
   ]
  },
  {
   "cell_type": "markdown",
   "metadata": {},
   "source": [
    "### 1. Risque empirique\n",
    "\n",
    "**2.1.a** Appliquer un $k$-PPV avec $k=1$. Calculer le taux d'erreur (qui corresponds au risque empirique $\\mathcal{R}_{emp}$) et expliquer le résultat.\n",
    "\n",
    "**Astuces** : \n",
    "* Vous pouvez utiliser l'algorithme des $k$-PPV de Scikit-Learn: [doc](https://scikit-learn.org/stable/modules/generated/sklearn.neighbors.KNeighborsClassifier.html). Trouvez le nom de l'hyperparamètre qui vous permet de régler le nombre de voisins considéré lors de l'apprentissage ($k$).\n",
    "* Le taux d'erreur est égal à 1 - Overall Accuracy (vous pouvez utiliser votre implémentation du TP précédent)."
   ]
  },
  {
   "cell_type": "code",
   "execution_count": 4,
   "metadata": {},
   "outputs": [],
   "source": [
    "def proba_classe(y):\n",
    "    return np.bincount(y) / y.shape[0]\n",
    "\n",
    "def getConfusionMatrix(y,yhat,C=None):\n",
    "    if C is None:\n",
    "        C = proba_classe(y).shape[0]\n",
    "    confMatrix = np.zeros((C,C))\n",
    "    for i in range(y.shape[0]):\n",
    "        confMatrix[y[i]][yhat[i]] += 1\n",
    "    return confMatrix\n",
    "\n",
    "def getOA(y,yhat, C=None):\n",
    "    if C is None:\n",
    "        C = getConfusionMatrix(y,yhat)\n",
    "    return np.sum(C.diagonal()) / y.shape[0]\n",
    "\n",
    "def sample(X,Y,size):\n",
    "    x = []\n",
    "    y = []\n",
    "    for i in range(size):\n",
    "        r = randint(X.shape[0])\n",
    "        x.append(X[r,:])\n",
    "        y.append(Y[r])\n",
    "    x = np.asarray(x)\n",
    "    y = np.asarray(y)\n",
    "    return x,y"
   ]
  },
  {
   "cell_type": "code",
   "execution_count": 5,
   "metadata": {},
   "outputs": [
    {
     "name": "stdout",
     "output_type": "stream",
     "text": [
      "Taux d'erreur : 0.0\n"
     ]
    }
   ],
   "source": [
    "knn = KNeighborsClassifier(n_neighbors=1)\n",
    "knn.fit(X, Y)\n",
    "print(\"Taux d'erreur :\",1 - getOA(Y, knn.predict(X)))"
   ]
  },
  {
   "cell_type": "markdown",
   "metadata": {},
   "source": [
    "Ce taux d'erreur de 0 s'explique par le fait qu'on initialise k à 1. En effet vu qu'on utilise les mêmes échantillons pour apprendre et pour tester, l'algorithme va à chaque fois regarder l'échantillon correspondant à lui-même et donc ne produira aucune erreur."
   ]
  },
  {
   "cell_type": "markdown",
   "metadata": {},
   "source": [
    "**2.1.b** Appliquer un $k$-PPV avec $k=5$. Calculer le taux d'erreur $\\mathcal{R}_{emp}$ et afficher la matrice de confusion.\n",
    "\n",
    "**Astuce** : \n",
    "* Vous pouvez utiliser votre méthode `getConfusionMatrix()` développée au TP07, et comparer le résultat avec la matrice de confusion calculée par Scikit-Learn : `C = confusion_matrix(Y,Yhat)`.\n",
    "* Pour un affichage simple de la matrice de confusion :\n",
    "``` \n",
    "plt.figure()\n",
    "plt.imshow(C)\n",
    "plt.show()\n",
    "```\n",
    "* Pour un affichage plus élaboré avec Seaborn :\n",
    "```\n",
    "labels = data.target_names\n",
    "df_cm = pd.DataFrame(C, index = [i for i in labels],\n",
    "                  columns = [i for i in labels])\n",
    "plt.figure()\n",
    "sn.heatmap(df_cm, annot=True, fmt='d')\n",
    "```"
   ]
  },
  {
   "cell_type": "code",
   "execution_count": 6,
   "metadata": {},
   "outputs": [
    {
     "name": "stdout",
     "output_type": "stream",
     "text": [
      "Taux d'erreur : 0.009460211463550361\n"
     ]
    },
    {
     "data": {
      "text/plain": [
       "<matplotlib.axes._subplots.AxesSubplot at 0x289b284fbc8>"
      ]
     },
     "execution_count": 6,
     "metadata": {},
     "output_type": "execute_result"
    },
    {
     "data": {
      "image/png": "[encoded data removed]",
      "text/plain": [
       "<Figure size 432x288 with 2 Axes>"
      ]
     },
     "metadata": {
      "needs_background": "light"
     },
     "output_type": "display_data"
    }
   ],
   "source": [
    "knn = KNeighborsClassifier(n_neighbors=5)\n",
    "knn.fit(X, Y)\n",
    "yhat = knn.predict(X)\n",
    "c = getConfusionMatrix(Y,yhat)\n",
    "print(\"Taux d'erreur :\",1 - getOA(Y,yhat,C=c))\n",
    "\n",
    "labels = digits.target_names.astype(np.int32)\n",
    "df_cm = pd.DataFrame(c, index = [i for i in labels],\n",
    "                columns = [i for i in labels])\n",
    "plt.figure()\n",
    "sn.heatmap(df_cm, annot=True)"
   ]
  },
  {
   "cell_type": "markdown",
   "metadata": {},
   "source": [
    "**2.1.c** Tracer l'évolution du risque empririque, pour $k=5$, en fonction de la taille des données d'apprentissage.\n",
    "* Définir les différentes tailles d'apprentissage : `size = [5, 10, 25, 50, 75, 100, 150, 200, 250, 500, 1000, 1500]`.\n",
    "* Tirer un échantillon aléatoire de la taille donnée.\n",
    "Note : il est possible d'utiliser la méthode `random.sample` du module `random`.\n",
    "* Applicquer un $5$-PPV pour chaque taille d'échantillon et calculer $\\mathcal{R}_{emp}$ le risque empirique.\n",
    "* Tracer l'évolution du risque empirique en fonction de la taille de l'échantillon : $\\mathcal{R}_{emp}=f(size)$.\n",
    "\n",
    "**Commenter**"
   ]
  },
  {
   "cell_type": "code",
   "execution_count": 42,
   "metadata": {},
   "outputs": [
    {
     "data": {
      "image/png": "[encoded data removed]",
      "text/plain": [
       "<Figure size 432x288 with 1 Axes>"
      ]
     },
     "metadata": {
      "needs_background": "light"
     },
     "output_type": "display_data"
    }
   ],
   "source": [
    "size = [5, 10, 25, 50, 75, 100, 150, 200, 250, 500, 1000, 1500]\n",
    "res1 = []\n",
    "knn = KNeighborsClassifier(n_neighbors=5)\n",
    "for i in size:\n",
    "    x, y = sample(X,Y,i)\n",
    "    knn.fit(x, y)\n",
    "    res1.append(1-getOA(y, knn.predict(x)))\n",
    "plt.figure()\n",
    "plt.plot(size,res1)\n",
    "plt.xlabel(\"Nombre d'échantillons\")\n",
    "plt.ylabel(\"Risque empirique\")\n",
    "plt.show()"
   ]
  },
  {
   "cell_type": "raw",
   "metadata": {},
   "source": [
    "Commentaires:\n",
    "\n",
    "Plus le nombre d'échantillons est élevé plus le risque empirique est faible."
   ]
  },
  {
   "cell_type": "markdown",
   "metadata": {},
   "source": [
    "### 2. Risque réel et erreur de généralisation, $k$ fixé\n",
    "\n",
    "**2.2.a** Calculer une estimation de l'erreur de généralisation en utilisant un jeu d'apprentissage et de test ($N=297$), pour les différentes tailles d'échantillons d'apprentissage testées ci-dessus (size), et toujours en considérant un $5$-PPV.\n",
    "* Diviser aléatoirement les échantillons en sous-ensembles d'apprentissage  et de test : ` Xtrain, Xtest, Ytrain, Ytest = train_test_split(X,Y, test_size=N)` avec `N` la taille de l'échantillon de test désirée.\n",
    "* Superposer les deux courbes d'évolution du risque empirique et du risque réel en fonction de la taille de l'échantillon d'apprentissage. N'hésitez pas à aussi visualiser les courbes uniquement pour les plus grandes tailles d'échantillon d'apprentissage.\n",
    "\n",
    "**Comparer et commenter**"
   ]
  },
  {
   "cell_type": "code",
   "execution_count": 43,
   "metadata": {},
   "outputs": [
    {
     "data": {
      "image/png": "[encoded data removed]",
      "text/plain": [
       "<Figure size 432x288 with 1 Axes>"
      ]
     },
     "metadata": {
      "needs_background": "light"
     },
     "output_type": "display_data"
    }
   ],
   "source": [
    "N = 297\n",
    "Xtrain, Xtest, Ytrain, Ytest = train_test_split(X,Y, test_size=N)\n",
    "knn = KNeighborsClassifier(n_neighbors=5)\n",
    "res2 = []\n",
    "for i in size:\n",
    "    x, y = sample(Xtrain,Ytrain,i)\n",
    "    knn.fit(x, y)\n",
    "    res2.append(1-getOA(Ytest, knn.predict(Xtest)))\n",
    "\n",
    "plt.figure()\n",
    "plt.plot(size,res1, label=\"empirique\")\n",
    "plt.plot(size,res2, label=\"réel\")\n",
    "plt.legend(loc=\"upper right\")\n",
    "plt.xlabel(\"Nombre d'échantillons\")\n",
    "plt.ylabel(\"Risque\")\n",
    "plt.show()"
   ]
  },
  {
   "cell_type": "raw",
   "metadata": {},
   "source": [
    "Comparaisons et commentaires\n",
    "\n",
    "On remarque que le risque empirique est plus optimiste que le risque réel.\n",
    "La tendance de la courbe reste la même."
   ]
  },
  {
   "cell_type": "markdown",
   "metadata": {},
   "source": [
    "**2.2.b** Jusqu'à présent les résultats sont obtenus pour une seule répétition alors que les résultats dépendent du découpage entre les données d'apprentissage et de test. Généralement cette procédure est répétée plusieurs fois afin d'obtenir la moyenne et la variance des résultats.\n",
    "\n",
    "Répéter la procédure précédente (2.2.a) 20 fois, et calculer les risques empirique et réel moyens, ainsi que les variances associées. Comparer les résultats avec ceux obtenus sur une seule répétition.\n",
    "\n",
    "**Astuce** : vous pouvez afficher les résultats avec plt.errorbar() pour afficher la courbe +/- un écart-type\n",
    "\n",
    "**Commenter**"
   ]
  },
  {
   "cell_type": "code",
   "execution_count": 17,
   "metadata": {},
   "outputs": [],
   "source": [
    "#-- Calculer pour 20 runs\n",
    "\n",
    "rEmp = []\n",
    "rReal = []\n",
    "for i in range(20):\n",
    "    resEmp = []\n",
    "    resReal = []\n",
    "    for j in size:\n",
    "        x, y = sample(X,Y,j)\n",
    "        knn.fit(x, y)\n",
    "        resEmp.append(1-getOA(y, knn.predict(x)))\n",
    "        x, y = sample(Xtrain,Ytrain,j)\n",
    "        knn.fit(x, y)\n",
    "        resReal.append(1-getOA(Ytest, knn.predict(Xtest)))\n",
    "    rEmp.append(resEmp)\n",
    "    rReal.append(resReal)\n",
    "    "
   ]
  },
  {
   "cell_type": "code",
   "execution_count": 28,
   "metadata": {},
   "outputs": [
    {
     "data": {
      "image/png": "[encoded data removed]",
      "text/plain": [
       "<Figure size 432x288 with 1 Axes>"
      ]
     },
     "metadata": {
      "needs_background": "light"
     },
     "output_type": "display_data"
    }
   ],
   "source": [
    "#-- Affichage des résultats\n",
    "plt.figure()\n",
    "plt.plot(size,np.mean(rEmp, axis=0), label=\"empirique moyen\")\n",
    "plt.plot(size,np.mean(rReal, axis=0), label=\"réel moyen\")\n",
    "plt.legend(loc=\"upper right\")\n",
    "plt.xlabel(\"Nombre d'échantillons\")\n",
    "plt.ylabel(\"Risque\")\n",
    "plt.show()"
   ]
  },
  {
   "cell_type": "raw",
   "metadata": {},
   "source": [
    "Commentaires (comparaison avec le résultat précédent, comparaison de la variance, comparaison entre risque empirique et risque réel)\n",
    "Les courbes suivent la même tendance que les précédentes. Cependant elles sont plus lissent.\n",
    "Le risque réel reste au-dessus du risque empirique, c'est-à-dire que le risque empirique est plus optimiste que le risque réel."
   ]
  },
  {
   "cell_type": "markdown",
   "metadata": {},
   "source": [
    "**2.2.c** Mettre en oeuvre une validation croisée sur 5 sous-ensembles / partitions (*$5$-fold cross validation*) sur l'ensemble des données d'apprentissage (toujours avec le $5$-PPV). Donner une estimation de l'erreur de généralisation : `scores = cross_val_score(knn, X, Y, cv=5)` [doc](https://scikit-learn.org/stable/modules/generated/sklearn.model_selection.cross_val_score.html?highlight=cross_val_score#sklearn.model_selection.cross_val_score).\n",
    "\n",
    "**Question** : Quelle est la valeur moyenne d'Overall Accuracy que vous obtenez ?"
   ]
  },
  {
   "cell_type": "code",
   "execution_count": 33,
   "metadata": {},
   "outputs": [
    {
     "name": "stdout",
     "output_type": "stream",
     "text": [
      "Erreur : 0.03727174249458387\n",
      "Moyenne OA : 0.9816360601001671\n"
     ]
    }
   ],
   "source": [
    "scores = cross_val_score(knn, X, Y, cv=5)\n",
    "print(\"Erreur :\",1-np.mean(scores))\n",
    "OA = []\n",
    "for i in range(20):\n",
    "    OA.append(getOA(Y,knn.predict(X)))\n",
    "print(\"Moyenne OA :\",np.mean(OA))"
   ]
  },
  {
   "cell_type": "markdown",
   "metadata": {},
   "source": [
    "## Partie 3. Choix du meilleur hyperparamètre $k$ (du $k$-PPV) et estimation des performances en généralisation\n",
    "\n",
    "L'objectif de cette partie est de déterminer la meilleure valeur de l'hyperparamètre $k$ de l'algorithme PPV et d'évaluer les performances de généralisation.\n",
    "\n",
    "**3.1** Tracer l'évolution du risque empirique pour $k\\in [1,30]$. **Commenter**"
   ]
  },
  {
   "cell_type": "code",
   "execution_count": 66,
   "metadata": {},
   "outputs": [
    {
     "data": {
      "image/png": "[encoded data removed]",
      "text/plain": [
       "<Figure size 432x288 with 1 Axes>"
      ]
     },
     "metadata": {
      "needs_background": "light"
     },
     "output_type": "display_data"
    }
   ],
   "source": [
    "rEmp = []\n",
    "size = range(2,31)\n",
    "for i in size:\n",
    "    knn = KNeighborsClassifier(n_neighbors=i)\n",
    "    knn.fit(X,Y)\n",
    "    rEmp.append(1-getOA(Y, knn.predict(X)))\n",
    "\n",
    "plt.figure()\n",
    "plt.plot(size,rEmp)\n",
    "plt.xlabel(\"k\")\n",
    "plt.ylabel(\"Risque empirique\")\n",
    "plt.show()"
   ]
  },
  {
   "cell_type": "markdown",
   "metadata": {},
   "source": [
    "La valeur de k qui offre un risque empirique le moins élevé semble être 3"
   ]
  },
  {
   "cell_type": "markdown",
   "metadata": {},
   "source": [
    "**3.2** Créer un jeu d'apprentissage qui contient 80 % des données. Les 20 % restantes seront les données de test."
   ]
  },
  {
   "cell_type": "code",
   "execution_count": 44,
   "metadata": {},
   "outputs": [],
   "source": [
    "Xtrain, Xtest, Ytrain, Ytest = train_test_split(X,Y, test_size=0.2)"
   ]
  },
  {
   "cell_type": "markdown",
   "metadata": {},
   "source": [
    "**3.3** Pour $k\\in [1,30]$, réaliser une validation croisée sur 5 sous-ensembles (*$5$-fold cross-validation*) sur le jeu de données d'apprentissage. Le même jeu de donnée d'apprentissage sera considéré."
   ]
  },
  {
   "cell_type": "code",
   "execution_count": 58,
   "metadata": {},
   "outputs": [
    {
     "name": "stdout",
     "output_type": "stream",
     "text": [
      "K choisi : 5\n"
     ]
    }
   ],
   "source": [
    "err = 1\n",
    "k = 0\n",
    "size = range(2,31)\n",
    "for i in size:\n",
    "    knn = KNeighborsClassifier(n_neighbors=i)\n",
    "    knn.fit(Xtrain,Ytrain)\n",
    "    scores = cross_val_score(knn, Xtrain, Ytrain, cv=5)\n",
    "    error = 1-np.mean(scores)\n",
    "    if error <= err:\n",
    "        err = error\n",
    "        k  = i\n",
    "\n",
    "print(\"K choisi :\",k )"
   ]
  },
  {
   "cell_type": "markdown",
   "metadata": {},
   "source": [
    "**3.4** Quelle est la meilleure valeur de $k$ à choisir ?"
   ]
  },
  {
   "cell_type": "raw",
   "metadata": {},
   "source": [
    "Valeur de k optimale\n",
    "k = 5"
   ]
  },
  {
   "cell_type": "markdown",
   "metadata": {},
   "source": [
    "**3.5** Pour cette valeur de $k$ optimale, donner une estimation du risque réel. La phase d'apprentissage sera réalisée sur l'ensemble des données d'apprentissage."
   ]
  },
  {
   "cell_type": "code",
   "execution_count": 61,
   "metadata": {},
   "outputs": [
    {
     "name": "stdout",
     "output_type": "stream",
     "text": [
      "Risque réel :  0.005555555555555536\n"
     ]
    }
   ],
   "source": [
    "knn = KNeighborsClassifier(n_neighbors=k)\n",
    "knn.fit(Xtrain,Ytrain)\n",
    "Yhat = knn.predict(Xtest)\n",
    "print(\"Risque réel : \", 1-getOA(Ytest, Yhat))"
   ]
  },
  {
   "cell_type": "markdown",
   "metadata": {},
   "source": [
    "**3.6** Calculer la matrice de confusion du modèle. Que pensez vous de ce modèle ?"
   ]
  },
  {
   "cell_type": "code",
   "execution_count": 62,
   "metadata": {},
   "outputs": [
    {
     "data": {
      "text/plain": [
       "<matplotlib.axes._subplots.AxesSubplot at 0x289b2c8f408>"
      ]
     },
     "execution_count": 62,
     "metadata": {},
     "output_type": "execute_result"
    },
    {
     "data": {
      "image/png": "[encoded data removed]",
      "text/plain": [
       "<Figure size 432x288 with 2 Axes>"
      ]
     },
     "metadata": {
      "needs_background": "light"
     },
     "output_type": "display_data"
    }
   ],
   "source": [
    "C = confusion_matrix(Ytest,Yhat)\n",
    "\n",
    "labels = digits.target_names.astype(np.int32)\n",
    "df_cm = pd.DataFrame(C, index = [i for i in labels],\n",
    "                columns = [i for i in labels])\n",
    "plt.figure()\n",
    "sn.heatmap(df_cm, annot=True)"
   ]
  },
  {
   "cell_type": "markdown",
   "metadata": {},
   "source": [
    "D'après les résultats, le modèle semble très fiable."
   ]
  },
  {
   "cell_type": "markdown",
   "metadata": {},
   "source": [
    "**3.7** Finalement, donner une estimation du risque réel en répétant 10 fois l'expérience précédente.\n",
    "\n",
    "Quelle est la valeur du risque réel moyen que vous obtenez ?"
   ]
  },
  {
   "cell_type": "code",
   "execution_count": 64,
   "metadata": {},
   "outputs": [
    {
     "name": "stdout",
     "output_type": "stream",
     "text": [
      "Valeur moyenne du risque réel : 0.005555555555555536\n"
     ]
    }
   ],
   "source": [
    "rReal = []\n",
    "for i in range(10):\n",
    "    knn = KNeighborsClassifier(n_neighbors=k)\n",
    "    knn.fit(Xtrain,Ytrain)\n",
    "    rReal.append(1-getOA(Ytest, knn.predict(Xtest)))\n",
    "print(\"Valeur moyenne du risque réel :\",np.mean(rReal))"
   ]
  }
 ],
 "metadata": {
  "kernelspec": {
   "display_name": "Python 3",
   "language": "python",
   "name": "python3"
  },
  "language_info": {
   "codemirror_mode": {
    "name": "ipython",
    "version": 3
   },
   "file_extension": ".py",
   "mimetype": "text/x-python",
   "name": "python",
   "nbconvert_exporter": "python",
   "pygments_lexer": "ipython3",
   "version": "3.7.3"
  }
 },
 "nbformat": 4,
 "nbformat_minor": 4
}
