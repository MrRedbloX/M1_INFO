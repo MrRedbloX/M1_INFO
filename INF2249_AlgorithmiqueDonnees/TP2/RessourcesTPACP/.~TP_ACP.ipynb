{
 "cells": [
  {
   "cell_type": "markdown",
   "metadata": {},
   "source": [
    "# Analyse en Composantes Principales (ACP)\n",
    "\n",
    "## Utilisation de Pandas et de ses dataframes\n",
    "\n",
    "### Lecture du fichier\n",
    "\n",
    "* Lire le fichier ``avocado.csv`` dans un dataframe avec pandas\n",
    "* Afficher le dataframe\n",
    "* A quoi correspondent les colonnes ``4046``, ``4225``, ``4770`` ?\n",
    "\n",
    "Source : <https://www.kaggle.com/neuromusic/avocado-prices> (jeu de données extrait de ``Kaggle``)\n"
   ]
  },
  {
   "cell_type": "code",
   "execution_count": null,
   "metadata": {},
   "outputs": [],
   "source": []
  },
  {
   "cell_type": "code",
   "execution_count": null,
   "metadata": {},
   "outputs": [],
   "source": []
  },
  {
   "cell_type": "markdown",
   "metadata": {},
   "source": [
    "### Utilisation du dataframe\n",
    "\n",
    "Tester les fonctions suivantes sur le dataframe (``Shift``+``Tab`` pour obtenir la documentation) : \n",
    "\n",
    "* ``columns``\n",
    "* ``head(n)``, ``tail(n)``. Quel est le rôle de ``n`` ?\n",
    "* ``shape``\n",
    "* ``dtypes``\n",
    "* ``to_numpy()``, ``values`` et ``index``\n",
    "* ``describe()``\n",
    "* ``mean()``\n",
    "* ``loc[]`` et ``iloc[]``"
   ]
  },
  {
   "cell_type": "code",
   "execution_count": null,
   "metadata": {},
   "outputs": [],
   "source": []
  },
  {
   "cell_type": "code",
   "execution_count": null,
   "metadata": {},
   "outputs": [],
   "source": []
  },
  {
   "cell_type": "code",
   "execution_count": null,
   "metadata": {},
   "outputs": [],
   "source": []
  },
  {
   "cell_type": "code",
   "execution_count": null,
   "metadata": {},
   "outputs": [],
   "source": []
  },
  {
   "cell_type": "code",
   "execution_count": null,
   "metadata": {},
   "outputs": [],
   "source": []
  },
  {
   "cell_type": "code",
   "execution_count": null,
   "metadata": {},
   "outputs": [],
   "source": []
  },
  {
   "cell_type": "code",
   "execution_count": null,
   "metadata": {},
   "outputs": [],
   "source": []
  },
  {
   "cell_type": "code",
   "execution_count": null,
   "metadata": {},
   "outputs": [],
   "source": []
  },
  {
   "cell_type": "code",
   "execution_count": null,
   "metadata": {},
   "outputs": [],
   "source": []
  },
  {
   "cell_type": "code",
   "execution_count": null,
   "metadata": {},
   "outputs": [],
   "source": []
  },
  {
   "cell_type": "markdown",
   "metadata": {},
   "source": [
    "# Mise en pratique\n",
    "\n",
    "Répondre aux questions suivantes : \\[A COMPLETER\\]\n",
    "\n",
    "1. Quelle est la taille du dataframe (nombre de colonnes, nombre de lignes) ?\n",
    "2. Combien y a-t-il de types d'avocat ? Lesquels ?"
   ]
  },
  {
   "cell_type": "code",
   "execution_count": null,
   "metadata": {},
   "outputs": [],
   "source": []
  },
  {
   "cell_type": "code",
   "execution_count": null,
   "metadata": {},
   "outputs": [],
   "source": []
  },
  {
   "cell_type": "markdown",
   "metadata": {},
   "source": [
    "Créer un dataframe ``data`` qui contient 50 échantillons d'avocats ``conventional`` et 50 échantillons d'avocats ``organic`` tirés aléatoirement des données ``avocado.csv``. On gardera les informations suivantes :\n",
    "* ``AveragePrice``\n",
    "* ``Total Volume``\n",
    "* ``4046``\n",
    "* ``4225``\n",
    "* ``4770`` \n",
    "* ``Total Bags`` \n",
    "* ``Small Bags`` \n",
    "* ``Large Bags`` \n",
    "* ``XLarge Bags``\n",
    "\n",
    "Vérifier que ``data`` comporte 100 lignes et 10 colonnes."
   ]
  },
  {
   "cell_type": "code",
   "execution_count": null,
   "metadata": {},
   "outputs": [],
   "source": []
  },
  {
   "cell_type": "code",
   "execution_count": null,
   "metadata": {},
   "outputs": [],
   "source": []
  },
  {
   "cell_type": "code",
   "execution_count": null,
   "metadata": {},
   "outputs": [],
   "source": []
  },
  {
   "cell_type": "markdown",
   "metadata": {},
   "source": [
    "## Etudes préliminaires des données\n",
    "\n",
    "* Chargez le jeu de données ``orange.csv`` dans un dataframe ``data``.\n",
    "* Sauvegardez dans ``m`` et ``d`` le nombre d'échantillons et le nombre de variables.\n",
    "\n",
    "Source [modifiée] : https://husson.github.io/data.html\n"
   ]
  },
  {
   "cell_type": "code",
   "execution_count": null,
   "metadata": {},
   "outputs": [],
   "source": []
  },
  {
   "cell_type": "markdown",
   "metadata": {},
   "source": [
    "### Données centrées et données centrées-réduites\n",
    "\n",
    "* Visualiser les variables ``Intensite odeur``, ``Glucose`` et ``Acide citrique`` pour les 6 échantillons du jeux de données"
   ]
  },
  {
   "cell_type": "code",
   "execution_count": null,
   "metadata": {},
   "outputs": [],
   "source": [
    "%matplotlib inline\n",
    "import matplotlib.pyplot as plt\n",
    "import seaborn as sns\n",
    "from mpl_toolkits.mplot3d import Axes3D  "
   ]
  },
  {
   "cell_type": "code",
   "execution_count": null,
   "metadata": {},
   "outputs": [],
   "source": []
  },
  {
   "cell_type": "markdown",
   "metadata": {},
   "source": [
    "* Centrer l'ensemble des données (soustraire la moyenne) (créer une variable ``Y``)\n",
    "* Revisualiser les données"
   ]
  },
  {
   "cell_type": "code",
   "execution_count": null,
   "metadata": {},
   "outputs": [],
   "source": []
  },
  {
   "cell_type": "code",
   "execution_count": null,
   "metadata": {},
   "outputs": [],
   "source": []
  },
  {
   "cell_type": "markdown",
   "metadata": {},
   "source": [
    "* Centrer et réduire l'ensemble des données (soustraire la moyenne et diviser par l'écart-type) (créer une variable ``Z``)\n",
    "* Revisualiser les données"
   ]
  },
  {
   "cell_type": "code",
   "execution_count": null,
   "metadata": {},
   "outputs": [],
   "source": []
  },
  {
   "cell_type": "code",
   "execution_count": null,
   "metadata": {},
   "outputs": [],
   "source": []
  },
  {
   "cell_type": "markdown",
   "metadata": {},
   "source": [
    "Questions [A COMPLETER]\n",
    " * Quelle est la variance sur chacune des colonnes de ``Z`` (données centrées-réduites) ? \n",
    " * Que constatez vous sur les différents axes des trois visualisations ?  \n",
    " * Est ce que la distance entre deux observations est la même pour les données brutes et les données centrées ? et entre les données brutes et les données centrées-réduites ?"
   ]
  },
  {
   "cell_type": "code",
   "execution_count": null,
   "metadata": {},
   "outputs": [],
   "source": []
  },
  {
   "cell_type": "markdown",
   "metadata": {},
   "source": [
    "### Distance entre les observations\n",
    "\n",
    "* Calculer la distance entre chacune des observations dans une variable ``pairwise``.\n",
    "* Visualiser cette matrice de distance. On utilisera ``heatmap`` de la bibliothèque [Seaborn](https://seaborn.pydata.org/)."
   ]
  },
  {
   "cell_type": "code",
   "execution_count": null,
   "metadata": {},
   "outputs": [],
   "source": [
    "from scipy.spatial.distance import pdist\n",
    "from scipy.spatial.distance import squareform\n",
    "pairwise = pd.DataFrame(\n",
    "    squareform(pdist(data)),\n",
    "    columns = data.index,\n",
    "    index = data.index\n",
    ")"
   ]
  },
  {
   "cell_type": "code",
   "execution_count": null,
   "metadata": {},
   "outputs": [],
   "source": [
    "sns.heatmap(\n",
    "    pairwise,\n",
    "    cmap='OrRd',\n",
    "    linewidth=1\n",
    ")"
   ]
  },
  {
   "cell_type": "markdown",
   "metadata": {},
   "source": [
    "* Répétez ces opérations sur les données centrées (``Y``) et les données centrée-réduites (``Z``).\n",
    "* Que constatez-vous ?"
   ]
  },
  {
   "cell_type": "code",
   "execution_count": null,
   "metadata": {},
   "outputs": [],
   "source": [
    "# Pour Y"
   ]
  },
  {
   "cell_type": "code",
   "execution_count": null,
   "metadata": {},
   "outputs": [],
   "source": [
    "# Pour Z"
   ]
  },
  {
   "cell_type": "markdown",
   "metadata": {},
   "source": [
    "### Corrélation entre les variables\n",
    "\n",
    " * Utiliser la méthode ``corr`` de Pandas pour calculer la corrélation entre les différentes variables.\n",
    " * Quelle est la taille attendue de la matrice de corrélation ?\n"
   ]
  },
  {
   "cell_type": "code",
   "execution_count": null,
   "metadata": {},
   "outputs": [],
   "source": [
    "# Calcul des corrélations (dataframe)"
   ]
  },
  {
   "cell_type": "code",
   "execution_count": null,
   "metadata": {},
   "outputs": [],
   "source": [
    "# Taille de la matrice de corrélations"
   ]
  },
  {
   "cell_type": "code",
   "execution_count": null,
   "metadata": {},
   "outputs": [],
   "source": [
    "# Affichage de la matrice de corrélation"
   ]
  },
  {
   "cell_type": "code",
   "execution_count": null,
   "metadata": {},
   "outputs": [],
   "source": [
    "# Lien avec la matrice de covariance r_{XY} = \\frac{C_{XY}}{\\sigma_X\\sigma_Y}"
   ]
  },
  {
   "cell_type": "markdown",
   "metadata": {},
   "source": [
    "### Visualisation des données\n",
    "\n",
    "Visualiser les données pour chaque paire d'attributs (i.e., caractéristiques, variables) en utilisant ``pairplot`` de la bibliothèque Seaborn.\n"
   ]
  },
  {
   "cell_type": "code",
   "execution_count": null,
   "metadata": {},
   "outputs": [],
   "source": []
  },
  {
   "cell_type": "markdown",
   "metadata": {},
   "source": [
    "Questions \\[A COMPLETER\\]\n",
    "On remarque qu'il y a beaucoup de variables (ici ``d=15``) pour analyser les données :\n",
    "* Combien de scatterplots indépendants sont ils visibles ?\n",
    "* Combien de scatterplots à analyser si les données étaient dans un espace à ``d`` dimensions ?"
   ]
  },
  {
   "cell_type": "code",
   "execution_count": null,
   "metadata": {},
   "outputs": [],
   "source": []
  },
  {
   "cell_type": "code",
   "execution_count": null,
   "metadata": {},
   "outputs": [],
   "source": []
  },
  {
   "cell_type": "code",
   "execution_count": null,
   "metadata": {},
   "outputs": [],
   "source": []
  },
  {
   "cell_type": "markdown",
   "metadata": {},
   "source": [
    "## ACP avec Scikit-Learn\n",
    "\n",
    "Nous allons travailler avec un nouveau jeu de données ``decathlon.csv``.\n",
    "Charger les données dans un dataframe ``X``.\n",
    "\n",
    "Créer les dataframes ``Y`` et ``Z`` qui correspondent aux données centrées et centrées-réduites, respectivement.\n",
    "\n",
    "\n"
   ]
  },
  {
   "cell_type": "code",
   "execution_count": null,
   "metadata": {},
   "outputs": [],
   "source": []
  },
  {
   "cell_type": "markdown",
   "metadata": {},
   "source": [
    "* Quelle est le nombre d'observations dans ces données ? \n",
    "* Quelle est le nombre de variables ? Que représentent elles?"
   ]
  },
  {
   "cell_type": "code",
   "execution_count": null,
   "metadata": {},
   "outputs": [],
   "source": []
  },
  {
   "cell_type": "code",
   "execution_count": null,
   "metadata": {},
   "outputs": [],
   "source": []
  },
  {
   "cell_type": "code",
   "execution_count": null,
   "metadata": {},
   "outputs": [],
   "source": []
  },
  {
   "cell_type": "code",
   "execution_count": null,
   "metadata": {},
   "outputs": [],
   "source": []
  },
  {
   "cell_type": "markdown",
   "metadata": {},
   "source": [
    "### ACP sur les données centrées (``Y``)"
   ]
  },
  {
   "cell_type": "code",
   "execution_count": null,
   "metadata": {},
   "outputs": [],
   "source": [
    "# Importer le paquetage PCA de la bibliothèque decomposition de Scikit-Learn\n",
    "from sklearn.decomposition import PCA"
   ]
  },
  {
   "cell_type": "markdown",
   "metadata": {},
   "source": [
    "* Lire la documentation de PCA [en ligne](https://scikit-learn.org/stable/modules/generated/sklearn.decomposition.PCA.html)\n"
   ]
  },
  {
   "cell_type": "markdown",
   "metadata": {},
   "source": [
    "Essayer d'effectuer l'ensemble des actions suivantes\n",
    "1. Visualiser la valeurs des valeurs propres\n",
    "2. Visualiser la valeur cumulée des valeurs propres\n",
    "3. Afficher la valeur des vecteurs propres\n",
    "4. Visualiser la projection des données sur les deux premières dimensiosn."
   ]
  },
  {
   "cell_type": "code",
   "execution_count": null,
   "metadata": {},
   "outputs": [],
   "source": []
  },
  {
   "cell_type": "code",
   "execution_count": null,
   "metadata": {},
   "outputs": [],
   "source": []
  },
  {
   "cell_type": "code",
   "execution_count": null,
   "metadata": {},
   "outputs": [],
   "source": []
  },
  {
   "cell_type": "code",
   "execution_count": null,
   "metadata": {},
   "outputs": [],
   "source": []
  },
  {
   "cell_type": "code",
   "execution_count": null,
   "metadata": {},
   "outputs": [],
   "source": []
  },
  {
   "cell_type": "code",
   "execution_count": null,
   "metadata": {},
   "outputs": [],
   "source": []
  },
  {
   "cell_type": "markdown",
   "metadata": {},
   "source": [
    "## ACP normée\n",
    "Recommencer les étapes précédentes sur les données centrées réduites (``Z``)"
   ]
  },
  {
   "cell_type": "code",
   "execution_count": null,
   "metadata": {},
   "outputs": [],
   "source": []
  },
  {
   "cell_type": "code",
   "execution_count": null,
   "metadata": {},
   "outputs": [],
   "source": []
  },
  {
   "cell_type": "markdown",
   "metadata": {},
   "source": [
    "Est ce que les données projetées sont similaires pour l'ACP et l'ACP normée ?"
   ]
  },
  {
   "cell_type": "code",
   "execution_count": null,
   "metadata": {},
   "outputs": [],
   "source": []
  },
  {
   "cell_type": "code",
   "execution_count": null,
   "metadata": {},
   "outputs": [],
   "source": []
  },
  {
   "cell_type": "code",
   "execution_count": null,
   "metadata": {},
   "outputs": [],
   "source": []
  },
  {
   "cell_type": "code",
   "execution_count": null,
   "metadata": {},
   "outputs": [],
   "source": []
  },
  {
   "cell_type": "code",
   "execution_count": null,
   "metadata": {},
   "outputs": [],
   "source": []
  },
  {
   "cell_type": "code",
   "execution_count": null,
   "metadata": {},
   "outputs": [],
   "source": []
  },
  {
   "cell_type": "code",
   "execution_count": null,
   "metadata": {},
   "outputs": [],
   "source": []
  },
  {
   "cell_type": "code",
   "execution_count": null,
   "metadata": {},
   "outputs": [],
   "source": []
  },
  {
   "cell_type": "code",
   "execution_count": null,
   "metadata": {},
   "outputs": [],
   "source": []
  },
  {
   "cell_type": "markdown",
   "metadata": {},
   "source": [
    "### Complément [pour aller plus loin]"
   ]
  },
  {
   "cell_type": "code",
   "execution_count": null,
   "metadata": {},
   "outputs": [],
   "source": [
    "# Règle du coude et test des batons brisés\n",
    "##--- Seuils pour le test des bâtons brisés\n",
    "bs = 1/np.arange(d,0,-1)\n",
    "bs = np.cumsum(bs)\n",
    "bs = bs[::-1]\n",
    "\n",
    "##--- Test des bâtons brisés\n",
    "print(pd.DataFrame({'Val.Propre':eigval,'Seuils':bs}))"
   ]
  },
  {
   "cell_type": "code",
   "execution_count": null,
   "metadata": {},
   "outputs": [],
   "source": []
  }
 ],
 "metadata": {
  "kernelspec": {
   "display_name": "Python 3",
   "language": "python",
   "name": "python3"
  },
  "language_info": {
   "codemirror_mode": {
    "name": "ipython",
    "version": 3
   },
   "file_extension": ".py",
   "mimetype": "text/x-python",
   "name": "python",
   "nbconvert_exporter": "python",
   "pygments_lexer": "ipython3",
   "version": "3.6.4"
  }
 },
 "nbformat": 4,
 "nbformat_minor": 4
}
