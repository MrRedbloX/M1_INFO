{
 "cells": [
  {
   "cell_type": "markdown",
   "metadata": {},
   "source": [
    "## Prise en main"
   ]
  },
  {
   "cell_type": "code",
   "execution_count": null,
   "metadata": {},
   "outputs": [],
   "source": [
    "x = 2434+33476\n",
    "y = 1+3 "
   ]
  },
  {
   "cell_type": "code",
   "execution_count": null,
   "metadata": {},
   "outputs": [],
   "source": [
    "x"
   ]
  },
  {
   "cell_type": "code",
   "execution_count": null,
   "metadata": {},
   "outputs": [],
   "source": [
    "print(x)"
   ]
  },
  {
   "cell_type": "code",
   "execution_count": null,
   "metadata": {},
   "outputs": [],
   "source": [
    "x\n",
    "print(x)"
   ]
  },
  {
   "cell_type": "code",
   "execution_count": null,
   "metadata": {},
   "outputs": [],
   "source": [
    "y"
   ]
  },
  {
   "cell_type": "code",
   "execution_count": null,
   "metadata": {},
   "outputs": [],
   "source": [
    "y\n",
    "print(x)"
   ]
  },
  {
   "cell_type": "code",
   "execution_count": null,
   "metadata": {},
   "outputs": [],
   "source": [
    "print(y)\n",
    "x"
   ]
  },
  {
   "cell_type": "code",
   "execution_count": null,
   "metadata": {},
   "outputs": [],
   "source": [
    "print?"
   ]
  },
  {
   "cell_type": "code",
   "execution_count": null,
   "metadata": {},
   "outputs": [],
   "source": [
    "print"
   ]
  },
  {
   "cell_type": "code",
   "execution_count": null,
   "metadata": {},
   "outputs": [],
   "source": [
    "import numpy\n",
    "import scipy\n",
    "import matplotlib\n",
    "import sklearn\n"
   ]
  },
  {
   "cell_type": "markdown",
   "metadata": {},
   "source": [
    "# Exercices"
   ]
  },
  {
   "cell_type": "markdown",
   "metadata": {},
   "source": [
    "## Exercice 1 : norme d'une liste\n",
    "Ecrire une fonction Python qui calcule la norme Euclidienne d'un vecteur de dimension arbitraire définie sous forme de liste."
   ]
  },
  {
   "cell_type": "code",
   "execution_count": null,
   "metadata": {},
   "outputs": [],
   "source": []
  },
  {
   "cell_type": "code",
   "execution_count": null,
   "metadata": {},
   "outputs": [],
   "source": []
  },
  {
   "cell_type": "code",
   "execution_count": null,
   "metadata": {},
   "outputs": [],
   "source": []
  },
  {
   "cell_type": "markdown",
   "metadata": {},
   "source": [
    "Citez des avantages des listes en Python ? [A compléter]\n",
    "\n",
    "1. \n",
    "2. \n",
    "3. \n",
    "4. "
   ]
  },
  {
   "cell_type": "markdown",
   "metadata": {},
   "source": [
    "## Exercice 1bis : matrice Numpy\n",
    "\n",
    "* Ecrire une méthode créant une matrice, sous forme de listes de listes, de taille prédéfinie, remplie aléatoirement.\n",
    "* Ecrire un produit matrice/vecteur utilisant cette structure et basée sur une double boucle.\n",
    "* Comparer le temps d'exécution (package time) de votre produit avec la même opération réalisée par Numpy."
   ]
  },
  {
   "cell_type": "code",
   "execution_count": null,
   "metadata": {},
   "outputs": [],
   "source": [
    "# Import de package \n",
    "import random  # https://docs.python.org/3.7/library/random.html\n",
    "import time    # https://docs.python.org/3.7/library/time.html"
   ]
  },
  {
   "cell_type": "code",
   "execution_count": null,
   "metadata": {},
   "outputs": [],
   "source": []
  },
  {
   "cell_type": "code",
   "execution_count": null,
   "metadata": {},
   "outputs": [],
   "source": []
  },
  {
   "cell_type": "code",
   "execution_count": null,
   "metadata": {},
   "outputs": [],
   "source": []
  },
  {
   "cell_type": "code",
   "execution_count": null,
   "metadata": {},
   "outputs": [],
   "source": []
  },
  {
   "cell_type": "code",
   "execution_count": null,
   "metadata": {},
   "outputs": [],
   "source": []
  },
  {
   "cell_type": "markdown",
   "metadata": {},
   "source": [
    "Quel temps obtenez vous ? [A compléter]\n",
    "\n",
    "Cas | $(m,n)$ | Boucle for | Solution Numpy\n",
    ": | :-: | :-: | :-:\n",
    "Cas 1 | | |\n",
    "Cas 2 | | |\n",
    "Cas 3 | | |"
   ]
  },
  {
   "cell_type": "markdown",
   "metadata": {},
   "source": [
    "## Exercice 2 : pickle\n",
    "\n",
    "* Définissez votre propre liste de chaînes de caractère (par exemple, une liste de villes de Bretagne).\n",
    "* Utilisez le module ``pickle`` pour sauver cette liste dans un fichier texte : [Pickle](https://docs.python.org/3/library/pickle.html).\n",
    "* Rechargez cette liste.\n",
    "* Même chose avec un dictionnaire."
   ]
  },
  {
   "cell_type": "code",
   "execution_count": null,
   "metadata": {},
   "outputs": [],
   "source": [
    "import pickle"
   ]
  },
  {
   "cell_type": "code",
   "execution_count": null,
   "metadata": {},
   "outputs": [],
   "source": []
  },
  {
   "cell_type": "code",
   "execution_count": null,
   "metadata": {},
   "outputs": [],
   "source": []
  },
  {
   "cell_type": "code",
   "execution_count": null,
   "metadata": {},
   "outputs": [],
   "source": []
  },
  {
   "cell_type": "code",
   "execution_count": null,
   "metadata": {},
   "outputs": [],
   "source": []
  },
  {
   "cell_type": "markdown",
   "metadata": {},
   "source": [
    "## Exercice 3 : Classe\n",
    "\n",
    "* Créer une classe Python nommée ``Vecteur``, que l'on utilisera pour décrire un vecteur plan. Ces paramètres sont ``x`` et ``y``.\n",
    "* Implémenter l'addition ``__add__``, la soustraction ``__sub__``, les multiplications ``__mul__`` et ``__rmul__`` par un vecteur et un scalaire, et la représentation ``__repr__``. Ne pas oublier le constructeur ``__init__``.\n",
    "* Créer une classe nommée ``Particule``, dont les paramètres sont les vecteurs position et vitesse. Implémenter une méthode ``deplace(dt)`` pour calculer la nouvelle position d'une particule après un pas de temps dt."
   ]
  },
  {
   "cell_type": "code",
   "execution_count": null,
   "metadata": {},
   "outputs": [],
   "source": []
  },
  {
   "cell_type": "code",
   "execution_count": null,
   "metadata": {},
   "outputs": [],
   "source": []
  },
  {
   "cell_type": "markdown",
   "metadata": {},
   "source": [
    "Testez le bon fonctionnement de vos deux classes"
   ]
  },
  {
   "cell_type": "code",
   "execution_count": null,
   "metadata": {},
   "outputs": [],
   "source": []
  },
  {
   "cell_type": "markdown",
   "metadata": {},
   "source": [
    "## Exercice 4 : Simpy\n",
    "\n",
    "$$ I = \\int_{-\\infty}^{+\\infty} e^{-x^2}dx$$\n",
    "\n",
    "* Calculez l’intégrale suivante (dite de Gauss) en utilisant la méthode symbolique de [Simpy](https://docs.sympy.org/1.5.1/modules/integrals/integrals.html) \n",
    "* Calculez cette même intégrale numériquement en utilisant la méthode des trapèzes de numpy (i.e. ``numpy.trapz``) \n",
    "* Calculez une nouvelle fois la même intégrale avec une méthode de calcul équivalente que vous aurez codée.\n",
    "\n"
   ]
  },
  {
   "cell_type": "code",
   "execution_count": null,
   "metadata": {},
   "outputs": [],
   "source": [
    "from simpy import *"
   ]
  },
  {
   "cell_type": "code",
   "execution_count": null,
   "metadata": {},
   "outputs": [],
   "source": []
  },
  {
   "cell_type": "code",
   "execution_count": null,
   "metadata": {},
   "outputs": [],
   "source": []
  },
  {
   "cell_type": "code",
   "execution_count": null,
   "metadata": {},
   "outputs": [],
   "source": []
  },
  {
   "cell_type": "markdown",
   "metadata": {},
   "source": [
    "## Exercice 5 : image\n",
    "\n",
    "* Récupérez l’image hyperspectrale nommée ``Urban_R162.mat`` \n",
    "* Examinez la structure de données correspondantes \n",
    "* Faire une fonction qui affiche une bande spectrale donnée de l’image sous la forme d’une image avec une colormap \n",
    "* Affichez une composition couleur de cette image en choisissant la correspondance spectre/couleur suivante : \n",
    "\n",
    " 50->R 100->G 150->B \n",
    "* Affichez sur un même diagramme 10 spectres pris aléatoirement dans l’image"
   ]
  },
  {
   "cell_type": "code",
   "execution_count": 1,
   "metadata": {},
   "outputs": [],
   "source": [
    "%matplotlib inline\n",
    "import matplotlib.pyplot as plt"
   ]
  },
  {
   "cell_type": "code",
   "execution_count": 2,
   "metadata": {},
   "outputs": [],
   "source": [
    "# Lecture d'un fichier .mat en Python\n",
    "import scipy.io\n",
    "mat = scipy.io.loadmat('Urban_R162.mat')"
   ]
  },
  {
   "cell_type": "code",
   "execution_count": null,
   "metadata": {},
   "outputs": [],
   "source": []
  },
  {
   "cell_type": "markdown",
   "metadata": {},
   "source": [
    "Comment est organisé la donnée (quelle structure ?) ? Quelle est la taille de l'image ? [A compléter]"
   ]
  },
  {
   "cell_type": "code",
   "execution_count": null,
   "metadata": {},
   "outputs": [],
   "source": []
  },
  {
   "cell_type": "code",
   "execution_count": null,
   "metadata": {},
   "outputs": [],
   "source": []
  },
  {
   "cell_type": "code",
   "execution_count": null,
   "metadata": {},
   "outputs": [],
   "source": []
  },
  {
   "cell_type": "code",
   "execution_count": null,
   "metadata": {},
   "outputs": [],
   "source": []
  }
 ],
 "metadata": {
  "kernelspec": {
   "display_name": "Python 3",
   "language": "python",
   "name": "python3"
  },
  "language_info": {
   "codemirror_mode": {
    "name": "ipython",
    "version": 3
   },
   "file_extension": ".py",
   "mimetype": "text/x-python",
   "name": "python",
   "nbconvert_exporter": "python",
   "pygments_lexer": "ipython3",
   "version": "3.6.4"
  }
 },
 "nbformat": 4,
 "nbformat_minor": 4
}
