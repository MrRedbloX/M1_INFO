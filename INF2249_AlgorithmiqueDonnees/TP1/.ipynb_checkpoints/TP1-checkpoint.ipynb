{
 "cells": [
  {
   "cell_type": "markdown",
   "metadata": {},
   "source": [
    "## Prise en main"
   ]
  },
  {
   "cell_type": "code",
   "execution_count": null,
   "metadata": {},
   "outputs": [],
   "source": [
    "x = 2434+33476\n",
    "y = 1+3 "
   ]
  },
  {
   "cell_type": "code",
   "execution_count": null,
   "metadata": {},
   "outputs": [],
   "source": [
    "x"
   ]
  },
  {
   "cell_type": "code",
   "execution_count": null,
   "metadata": {},
   "outputs": [],
   "source": [
    "print(x)"
   ]
  },
  {
   "cell_type": "code",
   "execution_count": null,
   "metadata": {},
   "outputs": [],
   "source": [
    "x\n",
    "print(x)"
   ]
  },
  {
   "cell_type": "code",
   "execution_count": null,
   "metadata": {},
   "outputs": [],
   "source": [
    "y"
   ]
  },
  {
   "cell_type": "code",
   "execution_count": null,
   "metadata": {},
   "outputs": [],
   "source": [
    "y\n",
    "print(x)"
   ]
  },
  {
   "cell_type": "code",
   "execution_count": null,
   "metadata": {},
   "outputs": [],
   "source": [
    "print(y)\n",
    "x"
   ]
  },
  {
   "cell_type": "code",
   "execution_count": null,
   "metadata": {},
   "outputs": [],
   "source": [
    "print?"
   ]
  },
  {
   "cell_type": "code",
   "execution_count": null,
   "metadata": {},
   "outputs": [],
   "source": [
    "print"
   ]
  },
  {
   "cell_type": "code",
   "execution_count": 38,
   "metadata": {},
   "outputs": [],
   "source": [
    "import numpy as np\n",
    "import scipy as sc\n",
    "import matplotlib as mpl\n",
    "import sklearn as skl\n",
    "import time"
   ]
  },
  {
   "cell_type": "markdown",
   "metadata": {},
   "source": [
    "# Exercices"
   ]
  },
  {
   "cell_type": "markdown",
   "metadata": {},
   "source": [
    "## Exercice 1 : norme d'une liste\n",
    "Ecrire une fonction Python qui calcule la norme Euclidienne d'un vecteur de dimension arbitraire définie sous forme de liste."
   ]
  },
  {
   "cell_type": "code",
   "execution_count": 4,
   "metadata": {},
   "outputs": [],
   "source": [
    "def normeEuclidienne(vect):\n",
    "    ret = 0\n",
    "    for i in range(len(vect)):\n",
    "        ret += vect[i] * vect[i]\n",
    "    return np.sqrt(ret)"
   ]
  },
  {
   "cell_type": "code",
   "execution_count": 11,
   "metadata": {},
   "outputs": [
    {
     "name": "stdout",
     "output_type": "stream",
     "text": [
      "Norme du vecteur : 14.966629547095765\n"
     ]
    }
   ],
   "source": [
    "vect = [12,8,4]\n",
    "print(\"Norme du vecteur :\",normeEuclidienne(vect))\n"
   ]
  },
  {
   "cell_type": "code",
   "execution_count": null,
   "metadata": {},
   "outputs": [],
   "source": []
  },
  {
   "cell_type": "markdown",
   "metadata": {},
   "source": [
    "Citez des avantages des listes en Python ? [A compléter]\n",
    "\n",
    "1. Les listes sont dynamiques\n",
    "2. On peut les remplir avec n'importe quoi\n",
    "3. Elles sont simples à itérer"
   ]
  },
  {
   "cell_type": "markdown",
   "metadata": {},
   "source": [
    "## Exercice 1bis : matrice Numpy\n",
    "\n",
    "* Ecrire une méthode créant une matrice, sous forme de listes de listes, de taille prédéfinie, remplie aléatoirement.\n",
    "* Ecrire un produit matrice/vecteur utilisant cette structure et basée sur une double boucle.\n",
    "* Comparer le temps d'exécution (package time) de votre produit avec la même opération réalisée par Numpy."
   ]
  },
  {
   "cell_type": "code",
   "execution_count": null,
   "metadata": {},
   "outputs": [],
   "source": [
    "# Import de package \n",
    "import random  # https://docs.python.org/3.7/library/random.html\n",
    "import time    # https://docs.python.org/3.7/library/time.html"
   ]
  },
  {
   "cell_type": "code",
   "execution_count": 24,
   "metadata": {},
   "outputs": [],
   "source": [
    "def createMatRandom(low,high,sizeX,sizeY):\n",
    "    return np.random.randint(low,high,(sizeX,sizeY))\n",
    "def matVectProduct(mat,vect):\n",
    "    ret = np.zeros(mat.shape[0])\n",
    "    if(mat.shape[1] == len(vect)):\n",
    "        for i in range(mat.shape[0]):\n",
    "            sum = 0\n",
    "            for j in range(mat.shape[1]):\n",
    "                sum += mat[i][j] * vect[j]\n",
    "            ret[i] = sum\n",
    "        return ret\n",
    "    else:\n",
    "        return False"
   ]
  },
  {
   "cell_type": "code",
   "execution_count": 30,
   "metadata": {},
   "outputs": [
    {
     "name": "stdout",
     "output_type": "stream",
     "text": [
      "[[4 0 5 1 0 3 2 2 0 1]\n",
      " [2 2 5 3 2 1 0 0 4 5]\n",
      " [3 5 0 0 1 3 3 0 1 0]\n",
      " [1 3 0 3 4 0 2 0 5 5]\n",
      " [1 1 1 1 4 0 3 2 4 1]\n",
      " [1 0 5 5 1 3 2 2 0 3]\n",
      " [3 1 4 5 4 4 4 4 4 3]\n",
      " [3 1 4 3 1 1 1 5 0 1]\n",
      " [4 0 3 0 3 2 5 5 3 5]\n",
      " [1 1 0 5 5 2 4 2 5 0]]\n",
      "[0 5 5 5 3 1 0 7 7 2]\n",
      "Product : [ 49.  95.  38.  87.  71.  76. 128.  81.  92.  96.]\n",
      "Time : 0.0003284000000007836 s\n",
      "Numpy prod : [ 49  95  38  87  71  76 128  81  92  96]\n",
      "Time numpy : 0.00019840000004478497 s\n"
     ]
    }
   ],
   "source": [
    "mat = createMatRandom(0,6,10,10)\n",
    "vect = np.random.randint(0,9,10)\n",
    "print(mat)\n",
    "print(vect)\n",
    "t1 = time.clock()\n",
    "print(\"Product :\",matVectProduct(mat,vect))\n",
    "t2 = time.clock()\n",
    "print(\"Time :\",(t2-t1),\"s\")\n",
    "t1 = time.clock()\n",
    "print(\"Numpy prod :\",mat.dot(vect))\n",
    "t2 = time.clock()\n",
    "print(\"Time numpy :\",(t2-t1),\"s\")"
   ]
  },
  {
   "cell_type": "code",
   "execution_count": null,
   "metadata": {},
   "outputs": [],
   "source": []
  },
  {
   "cell_type": "code",
   "execution_count": null,
   "metadata": {},
   "outputs": [],
   "source": []
  },
  {
   "cell_type": "code",
   "execution_count": null,
   "metadata": {},
   "outputs": [],
   "source": []
  },
  {
   "cell_type": "markdown",
   "metadata": {},
   "source": [
    "Quel temps obtenez vous ? [A compléter]\n",
    "\n",
    "Cas | $(m,n)$ | Boucle for | Solution Numpy\n",
    ": | :-: | :-: | :-:\n",
    "Cas 1 |(3,3) |0.0003 s |0.0002 s\n",
    "Cas 2 |(100,100) |0.004 s |0.0002 s\n",
    "Cas 3 |(1000,1000) |0.3 s |0.002 s"
   ]
  },
  {
   "cell_type": "markdown",
   "metadata": {},
   "source": [
    "## Exercice 2 : pickle\n",
    "\n",
    "* Définissez votre propre liste de chaînes de caractère (par exemple, une liste de villes de Bretagne).\n",
    "* Utilisez le module ``pickle`` pour sauver cette liste dans un fichier texte : [Pickle](https://docs.python.org/3/library/pickle.html).\n",
    "* Rechargez cette liste.\n",
    "* Même chose avec un dictionnaire."
   ]
  },
  {
   "cell_type": "code",
   "execution_count": 1,
   "metadata": {},
   "outputs": [
    {
     "name": "stdout",
     "output_type": "stream",
     "text": [
      "['Vannes', 'Quimper', 'Lorient', 'Brest', 'Rennes', 'Saint-Malo']\n"
     ]
    }
   ],
   "source": [
    "import pickle\n",
    "villes = [\"Vannes\",\"Quimper\",\"Lorient\",\"Brest\",\"Rennes\",\"Saint-Malo\"]\n",
    "pickle.dump(villes, open('villes.txt', 'wb'))\n",
    "villesLoad = pickle.load(open('villes.txt', 'rb'))\n",
    "print(villesLoad)"
   ]
  },
  {
   "cell_type": "code",
   "execution_count": 13,
   "metadata": {},
   "outputs": [
    {
     "name": "stdout",
     "output_type": "stream",
     "text": [
      "{'name1': 'Vannes', 'name2': 'Quimper', 'name3': 'Lorient', 'name4': 'Brest', 'name5': 'Rennes', 'name6': 'Saint-Malo'}\n"
     ]
    }
   ],
   "source": [
    "villesDict = {\n",
    "    \"name1\" : \"Vannes\",\n",
    "    \"name2\" : \"Quimper\",\n",
    "    \"name3\" : \"Lorient\",\n",
    "    \"name4\" : \"Brest\",\n",
    "    \"name5\" : \"Rennes\",\n",
    "    \"name6\" : \"Saint-Malo\",\n",
    "}\n",
    "np.save(\"villes.npy\", villesDict)\n",
    "villesDictLoad = np.load(\"villes.npy\", allow_pickle=\"True\")\n",
    "print(villesDictLoad.item())"
   ]
  },
  {
   "cell_type": "code",
   "execution_count": null,
   "metadata": {},
   "outputs": [],
   "source": []
  },
  {
   "cell_type": "code",
   "execution_count": null,
   "metadata": {},
   "outputs": [],
   "source": []
  },
  {
   "cell_type": "code",
   "execution_count": null,
   "metadata": {},
   "outputs": [],
   "source": []
  },
  {
   "cell_type": "markdown",
   "metadata": {},
   "source": [
    "## Exercice 3 : Classe\n",
    "\n",
    "* Créer une classe Python nommée ``Vecteur``, que l'on utilisera pour décrire un vecteur plan. Ces paramètres sont ``x`` et ``y``.\n",
    "* Implémenter l'addition ``__add__``, la soustraction ``__sub__``, les multiplications ``__mul__`` et ``__rmul__`` par un vecteur et un scalaire, et la représentation ``__repr__``. Ne pas oublier le constructeur ``__init__``.\n",
    "* Créer une classe nommée ``Particule``, dont les paramètres sont les vecteurs position et vitesse. Implémenter une méthode ``deplace(dt)`` pour calculer la nouvelle position d'une particule après un pas de temps dt."
   ]
  },
  {
   "cell_type": "code",
   "execution_count": 2,
   "metadata": {},
   "outputs": [],
   "source": [
    "class Vecteur:\n",
    "    def __init__(self,x,y):\n",
    "        self.x = x\n",
    "        self.y = y\n",
    "    def __add__(self,otherVect):\n",
    "        return Vecteur(self.x+otherVect.x, self.y+otherVect.y)\n",
    "    def __sub__(self,otherVect):\n",
    "        return Vecteur(self.x-otherVect.x, self.y-otherVect.y)\n",
    "    def __mul__(self,otherVect):\n",
    "        return Vecteur(self.x*otherVect.x, self.y*otherVect.y)\n",
    "    def __rmul__(self,scalaire):\n",
    "        return Vecteur(self.x*scalaire, self.y*scalaire)\n",
    "    def __repr__(self):\n",
    "        return \"(\"+str(self.x)+\",\"+str(self.y)+\")\""
   ]
  },
  {
   "cell_type": "code",
   "execution_count": 3,
   "metadata": {},
   "outputs": [],
   "source": [
    "class Particule:\n",
    "    def __init__(self,vectPos,vectVit):\n",
    "        self.vectPos = vectPos\n",
    "        self.vectVit = vectVit\n",
    "    def deplace(self,dt):\n",
    "        self.vectPos = self.vectPos + (dt * self.vectVit)"
   ]
  },
  {
   "cell_type": "markdown",
   "metadata": {},
   "source": [
    "Testez le bon fonctionnement de vos deux classes"
   ]
  },
  {
   "cell_type": "code",
   "execution_count": 6,
   "metadata": {},
   "outputs": [
    {
     "name": "stdout",
     "output_type": "stream",
     "text": [
      "Vecteur 1 : (4,5)\n",
      "Vecteur 2 : (6,7)\n",
      "Addition : (10,12)\n",
      "Soustraction : (-2,-2)\n",
      "Produit vectorielle : (24,35)\n",
      "Produit de Vecteur1 par 2 : (8,10)\n",
      "Particule, vectPos : (4,5) , vectVit : (6,7)\n",
      "Deplacement avec dt = 3 : vectPos = (22,26)\n"
     ]
    }
   ],
   "source": [
    "vect1 = Vecteur(4,5)\n",
    "vect2 = Vecteur(6,7)\n",
    "print(\"Vecteur 1 :\",vect1)\n",
    "print(\"Vecteur 2 :\",vect2)\n",
    "print(\"Addition :\",(vect1 + vect2))\n",
    "print(\"Soustraction :\",(vect1 - vect2))\n",
    "print(\"Produit vectorielle :\",(vect1 * vect2))\n",
    "scalaire = 2\n",
    "print(\"Produit de Vecteur1 par\",scalaire,\":\",(scalaire*vect1))\n",
    "\n",
    "particule = Particule(vect1,vect2)\n",
    "print(\"Particule, vectPos :\",particule.vectPos,\", vectVit :\",particule.vectVit)\n",
    "dt = 3\n",
    "particule.deplace(dt)\n",
    "print(\"Deplacement avec dt =\",dt,\": vectPos =\",particule.vectPos)"
   ]
  },
  {
   "cell_type": "markdown",
   "metadata": {},
   "source": [
    "## Exercice 4 : Sympy\n",
    "\n",
    "$$ I = \\int_{-\\infty}^{+\\infty} e^{-x^2}dx$$\n",
    "\n",
    "* Calculez l’intégrale suivante (dite de Gauss) en utilisant la méthode symbolique de [Sympy](https://docs.sympy.org/1.5.1/modules/integrals/integrals.html) \n",
    "* Calculez cette même intégrale numériquement en utilisant la méthode des trapèzes de numpy (i.e. ``numpy.trapz``) \n",
    "* Calculez une nouvelle fois la même intégrale avec une méthode de calcul équivalente que vous aurez codée.\n",
    "\n"
   ]
  },
  {
   "cell_type": "code",
   "execution_count": 47,
   "metadata": {},
   "outputs": [],
   "source": [
    "from sympy import *\n",
    "from mpmath import inf\n",
    "import numpy as np"
   ]
  },
  {
   "cell_type": "code",
   "execution_count": 55,
   "metadata": {},
   "outputs": [
    {
     "name": "stdout",
     "output_type": "stream",
     "text": [
      "Avec Sympy :\n"
     ]
    },
    {
     "data": {
      "image/png": "[encoded data removed]",
      "text/latex": [
       "$\\displaystyle 1.0 \\sqrt{\\pi}$"
      ],
      "text/plain": [
       "      ____\n",
       "1.0*\\/ pi "
      ]
     },
     "execution_count": 55,
     "metadata": {},
     "output_type": "execute_result"
    }
   ],
   "source": [
    "x = Symbol('x')\n",
    "print(\"Avec Sympy :\")\n",
    "integrate(exp(-(x**2)),(x,-inf,+inf))\n",
    "#quad(lambda x: exp(-(x**2)), [-inf, +inf])"
   ]
  },
  {
   "cell_type": "code",
   "execution_count": 56,
   "metadata": {},
   "outputs": [
    {
     "name": "stdout",
     "output_type": "stream",
     "text": [
      "Avec numpy.trapz de -10 à 10 : 1.7724538509055159\n"
     ]
    }
   ],
   "source": [
    "def gaussian(x):\n",
    "    return np.exp(-(x**2))\n",
    "x = np.arange(-10,10,0.1)\n",
    "y = gaussian(x)\n",
    "print(\"Avec numpy.trapz de -10 à 10 :\",np.trapz(y,x))\n",
    "#Environ sqrt(PI)"
   ]
  },
  {
   "cell_type": "code",
   "execution_count": 66,
   "metadata": {},
   "outputs": [
    {
     "name": "stdout",
     "output_type": "stream",
     "text": [
      "Avec ma fonction de -10 à 10 : 1.7724538509055237\n"
     ]
    }
   ],
   "source": [
    "def integrale(f,borneInf,borneSup,pas):\n",
    "    x = np.arange(borneInf,borneSup,pas)\n",
    "    y = f(x)\n",
    "    ret = 0\n",
    "    for i in range(len(y)):\n",
    "        ret += y[i]\n",
    "    return ret*pas\n",
    "print(\"Avec ma fonction de -10 à 10 :\",integrale(gaussian,-10,10,0.1))"
   ]
  },
  {
   "cell_type": "markdown",
   "metadata": {},
   "source": [
    "## Exercice 5 : image\n",
    "\n",
    "* Récupérez l’image hyperspectrale nommée ``Urban_R162.mat`` \n",
    "* Examinez la structure de données correspondantes \n",
    "* Faire une fonction qui affiche une bande spectrale donnée de l’image sous la forme d’une image avec une colormap \n",
    "* Affichez une composition couleur de cette image en choisissant la correspondance spectre/couleur suivante : \n",
    "\n",
    " 50->R 100->G 150->B \n",
    "* Affichez sur un même diagramme 10 spectres pris aléatoirement dans l’image"
   ]
  },
  {
   "cell_type": "code",
   "execution_count": 67,
   "metadata": {},
   "outputs": [],
   "source": [
    "%matplotlib inline\n",
    "import matplotlib.pyplot as plt"
   ]
  },
  {
   "cell_type": "code",
   "execution_count": 68,
   "metadata": {},
   "outputs": [],
   "source": [
    "# Lecture d'un fichier .mat en Python\n",
    "import scipy.io\n",
    "mat = scipy.io.loadmat('Urban_R162.mat')"
   ]
  },
  {
   "cell_type": "code",
   "execution_count": 151,
   "metadata": {},
   "outputs": [
    {
     "name": "stdout",
     "output_type": "stream",
     "text": [
      "dict_keys(['__header__', '__version__', '__globals__', 'SlectBands', 'nRow', 'nCol', 'nBand', 'Y', 'maxValue'])\n",
      "[[  5]\n",
      " [  6]\n",
      " [  7]\n",
      " [  8]\n",
      " [  9]\n",
      " [ 10]\n",
      " [ 11]\n",
      " [ 12]\n",
      " [ 13]\n",
      " [ 14]\n",
      " [ 15]\n",
      " [ 16]\n",
      " [ 17]\n",
      " [ 18]\n",
      " [ 19]\n",
      " [ 20]\n",
      " [ 21]\n",
      " [ 22]\n",
      " [ 23]\n",
      " [ 24]\n",
      " [ 25]\n",
      " [ 26]\n",
      " [ 27]\n",
      " [ 28]\n",
      " [ 29]\n",
      " [ 30]\n",
      " [ 31]\n",
      " [ 32]\n",
      " [ 33]\n",
      " [ 34]\n",
      " [ 35]\n",
      " [ 36]\n",
      " [ 37]\n",
      " [ 38]\n",
      " [ 39]\n",
      " [ 40]\n",
      " [ 41]\n",
      " [ 42]\n",
      " [ 43]\n",
      " [ 44]\n",
      " [ 45]\n",
      " [ 46]\n",
      " [ 47]\n",
      " [ 48]\n",
      " [ 49]\n",
      " [ 50]\n",
      " [ 51]\n",
      " [ 52]\n",
      " [ 53]\n",
      " [ 54]\n",
      " [ 55]\n",
      " [ 56]\n",
      " [ 57]\n",
      " [ 58]\n",
      " [ 59]\n",
      " [ 60]\n",
      " [ 61]\n",
      " [ 62]\n",
      " [ 63]\n",
      " [ 64]\n",
      " [ 65]\n",
      " [ 66]\n",
      " [ 67]\n",
      " [ 68]\n",
      " [ 69]\n",
      " [ 70]\n",
      " [ 71]\n",
      " [ 72]\n",
      " [ 73]\n",
      " [ 74]\n",
      " [ 75]\n",
      " [ 77]\n",
      " [ 78]\n",
      " [ 79]\n",
      " [ 80]\n",
      " [ 81]\n",
      " [ 82]\n",
      " [ 83]\n",
      " [ 84]\n",
      " [ 85]\n",
      " [ 86]\n",
      " [ 88]\n",
      " [ 89]\n",
      " [ 90]\n",
      " [ 91]\n",
      " [ 92]\n",
      " [ 93]\n",
      " [ 94]\n",
      " [ 95]\n",
      " [ 96]\n",
      " [ 97]\n",
      " [ 98]\n",
      " [ 99]\n",
      " [100]\n",
      " [112]\n",
      " [113]\n",
      " [114]\n",
      " [115]\n",
      " [116]\n",
      " [117]\n",
      " [118]\n",
      " [119]\n",
      " [120]\n",
      " [121]\n",
      " [122]\n",
      " [123]\n",
      " [124]\n",
      " [125]\n",
      " [126]\n",
      " [127]\n",
      " [128]\n",
      " [129]\n",
      " [130]\n",
      " [131]\n",
      " [132]\n",
      " [133]\n",
      " [134]\n",
      " [135]\n",
      " [154]\n",
      " [155]\n",
      " [156]\n",
      " [157]\n",
      " [158]\n",
      " [159]\n",
      " [160]\n",
      " [161]\n",
      " [162]\n",
      " [163]\n",
      " [164]\n",
      " [165]\n",
      " [166]\n",
      " [167]\n",
      " [168]\n",
      " [169]\n",
      " [170]\n",
      " [171]\n",
      " [172]\n",
      " [173]\n",
      " [174]\n",
      " [175]\n",
      " [176]\n",
      " [177]\n",
      " [178]\n",
      " [179]\n",
      " [180]\n",
      " [181]\n",
      " [182]\n",
      " [183]\n",
      " [184]\n",
      " [185]\n",
      " [186]\n",
      " [187]\n",
      " [188]\n",
      " [189]\n",
      " [190]\n",
      " [191]\n",
      " [192]\n",
      " [193]\n",
      " [194]\n",
      " [195]\n",
      " [196]\n",
      " [197]]\n",
      "[[307]] [[307]] [[210]]\n",
      "[[1000]]\n",
      "[109 116 119 ...  16  12   9]\n"
     ]
    }
   ],
   "source": [
    "print(mat.keys())\n",
    "print(mat['SlectBands'])\n",
    "print(mat['nRow'], mat['nCol'], mat['nBand'])\n",
    "print(mat['maxValue'])\n",
    "print(mat['Y'][0])"
   ]
  },
  {
   "cell_type": "markdown",
   "metadata": {},
   "source": [
    "Comment est organisé la donnée (quelle structure ?) ? Quelle est la taille de l'image ? [A compléter]"
   ]
  },
  {
   "cell_type": "markdown",
   "metadata": {},
   "source": [
    "La structure de données est organisée sous forme de dictionnaire. Les clés nRow et nCol définisse la taille de l'image qui est donc de 307x307. Dans Y on a l'image qui est définie pour chaque bande spectrale sélectionnée (162)."
   ]
  },
  {
   "cell_type": "code",
   "execution_count": 154,
   "metadata": {},
   "outputs": [
    {
     "name": "stdout",
     "output_type": "stream",
     "text": [
      "(array([0], dtype=int64), array([0], dtype=int64))\n",
      "[109]\n"
     ]
    }
   ],
   "source": [
    "def displaySpecBand(mat,band):\n",
    "    bands = mat['SlectBands'].tolist()\n",
    "    if band in bands:\n",
    "        ind = np.where(bands == band)\n",
    "        print(ind)\n",
    "        return mat['Y'][ind]\n",
    "    return False\n",
    "\n",
    "print(displaySpecBand(mat,5))"
   ]
  },
  {
   "cell_type": "code",
   "execution_count": null,
   "metadata": {},
   "outputs": [],
   "source": []
  },
  {
   "cell_type": "code",
   "execution_count": null,
   "metadata": {},
   "outputs": [],
   "source": []
  }
 ],
 "metadata": {
  "kernelspec": {
   "display_name": "Python 3",
   "language": "python",
   "name": "python3"
  },
  "language_info": {
   "codemirror_mode": {
    "name": "ipython",
    "version": 3
   },
   "file_extension": ".py",
   "mimetype": "text/x-python",
   "name": "python",
   "nbconvert_exporter": "python",
   "pygments_lexer": "ipython3",
   "version": "3.7.3"
  }
 },
 "nbformat": 4,
 "nbformat_minor": 4
}
