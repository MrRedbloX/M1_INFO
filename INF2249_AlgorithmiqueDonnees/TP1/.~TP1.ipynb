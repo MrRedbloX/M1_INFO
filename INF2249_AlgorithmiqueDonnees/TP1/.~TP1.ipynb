{
 "cells": [
  {
   "cell_type": "markdown",
   "metadata": {},
   "source": [
    "## Prise en main"
   ]
  },
  {
   "cell_type": "code",
   "execution_count": null,
   "metadata": {},
   "outputs": [],
   "source": [
    "x = 2434+33476\n",
    "y = 1+3 "
   ]
  },
  {
   "cell_type": "code",
   "execution_count": null,
   "metadata": {},
   "outputs": [],
   "source": [
    "x"
   ]
  },
  {
   "cell_type": "code",
   "execution_count": null,
   "metadata": {},
   "outputs": [],
   "source": [
    "print(x)"
   ]
  },
  {
   "cell_type": "code",
   "execution_count": null,
   "metadata": {},
   "outputs": [],
   "source": [
    "x\n",
    "print(x)"
   ]
  },
  {
   "cell_type": "code",
   "execution_count": null,
   "metadata": {},
   "outputs": [],
   "source": [
    "y"
   ]
  },
  {
   "cell_type": "code",
   "execution_count": null,
   "metadata": {},
   "outputs": [],
   "source": [
    "y\n",
    "print(x)"
   ]
  },
  {
   "cell_type": "code",
   "execution_count": null,
   "metadata": {},
   "outputs": [],
   "source": [
    "print(y)\n",
    "x"
   ]
  },
  {
   "cell_type": "code",
   "execution_count": null,
   "metadata": {},
   "outputs": [],
   "source": [
    "print?"
   ]
  },
  {
   "cell_type": "code",
   "execution_count": null,
   "metadata": {},
   "outputs": [],
   "source": [
    "print"
   ]
  },
  {
   "cell_type": "code",
   "execution_count": 23,
   "metadata": {},
   "outputs": [],
   "source": [
    "import numpy as np\n",
    "import scipy as sc\n",
    "import matplotlib as mpl\n",
    "import sklearn as skl\n",
    "import time"
   ]
  },
  {
   "cell_type": "markdown",
   "metadata": {},
   "source": [
    "# Exercices"
   ]
  },
  {
   "cell_type": "markdown",
   "metadata": {},
   "source": [
    "## Exercice 1 : norme d'une liste\n",
    "Ecrire une fonction Python qui calcule la norme Euclidienne d'un vecteur de dimension arbitraire définie sous forme de liste."
   ]
  },
  {
   "cell_type": "code",
   "execution_count": 4,
   "metadata": {},
   "outputs": [],
   "source": [
    "def normeEuclidienne(vect):\n",
    "    ret = 0\n",
    "    for i in range(len(vect)):\n",
    "        ret += vect[i] * vect[i]\n",
    "    return np.sqrt(ret)"
   ]
  },
  {
   "cell_type": "code",
   "execution_count": 11,
   "metadata": {},
   "outputs": [
    {
     "name": "stdout",
     "output_type": "stream",
     "text": [
      "Norme du vecteur : 14.966629547095765\n"
     ]
    }
   ],
   "source": [
    "vect = [12,8,4]\n",
    "print(\"Norme du vecteur :\",normeEuclidienne(vect))\n"
   ]
  },
  {
   "cell_type": "code",
   "execution_count": null,
   "metadata": {},
   "outputs": [],
   "source": []
  },
  {
   "cell_type": "markdown",
   "metadata": {},
   "source": [
    "Citez des avantages des listes en Python ? [A compléter]\n",
    "\n",
    "1. Les listes sont dynamiques\n",
    "2. On peut les remplir avec n'importe quoi\n",
    "3. Elles sont faciles d'accès\n",
    "4. "
   ]
  },
  {
   "cell_type": "markdown",
   "metadata": {},
   "source": [
    "## Exercice 1bis : matrice Numpy\n",
    "\n",
    "* Ecrire une méthode créant une matrice, sous forme de listes de listes, de taille prédéfinie, remplie aléatoirement.\n",
    "* Ecrire un produit matrice/vecteur utilisant cette structure et basée sur une double boucle.\n",
    "* Comparer le temps d'exécution (package time) de votre produit avec la même opération réalisée par Numpy."
   ]
  },
  {
   "cell_type": "code",
   "execution_count": null,
   "metadata": {},
   "outputs": [],
   "source": [
    "# Import de package \n",
    "import random  # https://docs.python.org/3.7/library/random.html\n",
    "import time    # https://docs.python.org/3.7/library/time.html"
   ]
  },
  {
   "cell_type": "code",
   "execution_count": 24,
   "metadata": {},
   "outputs": [],
   "source": [
    "def createMatRandom(low,high,sizeX,sizeY):\n",
    "    return np.random.randint(low,high,(sizeX,sizeY))\n",
    "def matVectProduct(mat,vect):\n",
    "    ret = np.zeros(mat.shape[0])\n",
    "    if(mat.shape[1] == len(vect)):\n",
    "        for i in range(mat.shape[0]):\n",
    "            sum = 0\n",
    "            for j in range(mat.shape[1]):\n",
    "                sum += mat[i][j] * vect[j]\n",
    "            ret[i] = sum\n",
    "        return ret\n",
    "    else:\n",
    "        return False"
   ]
  },
  {
   "cell_type": "code",
   "execution_count": 30,
   "metadata": {},
   "outputs": [
    {
     "name": "stdout",
     "output_type": "stream",
     "text": [
      "[[4 0 5 1 0 3 2 2 0 1]\n",
      " [2 2 5 3 2 1 0 0 4 5]\n",
      " [3 5 0 0 1 3 3 0 1 0]\n",
      " [1 3 0 3 4 0 2 0 5 5]\n",
      " [1 1 1 1 4 0 3 2 4 1]\n",
      " [1 0 5 5 1 3 2 2 0 3]\n",
      " [3 1 4 5 4 4 4 4 4 3]\n",
      " [3 1 4 3 1 1 1 5 0 1]\n",
      " [4 0 3 0 3 2 5 5 3 5]\n",
      " [1 1 0 5 5 2 4 2 5 0]]\n",
      "[0 5 5 5 3 1 0 7 7 2]\n",
      "Product : [ 49.  95.  38.  87.  71.  76. 128.  81.  92.  96.]\n",
      "Time : 0.0003284000000007836 s\n",
      "Numpy prod : [ 49  95  38  87  71  76 128  81  92  96]\n",
      "Time numpy : 0.00019840000004478497 s\n"
     ]
    }
   ],
   "source": [
    "mat = createMatRandom(0,6,10,10)\n",
    "vect = np.random.randint(0,9,10)\n",
    "print(mat)\n",
    "print(vect)\n",
    "t1 = time.clock()\n",
    "print(\"Product :\",matVectProduct(mat,vect))\n",
    "t2 = time.clock()\n",
    "print(\"Time :\",(t2-t1),\"s\")\n",
    "t1 = time.clock()\n",
    "print(\"Numpy prod :\",mat.dot(vect))\n",
    "t2 = time.clock()\n",
    "print(\"Time numpy :\",(t2-t1),\"s\")"
   ]
  },
  {
   "cell_type": "code",
   "execution_count": null,
   "metadata": {},
   "outputs": [],
   "source": []
  },
  {
   "cell_type": "code",
   "execution_count": null,
   "metadata": {},
   "outputs": [],
   "source": []
  },
  {
   "cell_type": "code",
   "execution_count": null,
   "metadata": {},
   "outputs": [],
   "source": []
  },
  {
   "cell_type": "markdown",
   "metadata": {},
   "source": [
    "Quel temps obtenez vous ? [A compléter]\n",
    "\n",
    "Cas | $(m,n)$ | Boucle for | Solution Numpy\n",
    ": | :-: | :-: | :-:\n",
    "Cas 1 |(3,3) |0.0003 s |0.0002 s\n",
    "Cas 2 |(100,100) |0.004 s |0.0002 s\n",
    "Cas 3 |(1000,1000) |0.3 s |0.002 s"
   ]
  },
  {
   "cell_type": "markdown",
   "metadata": {},
   "source": [
    "## Exercice 2 : pickle\n",
    "\n",
    "* Définissez votre propre liste de chaînes de caractère (par exemple, une liste de villes de Bretagne).\n",
    "* Utilisez le module ``pickle`` pour sauver cette liste dans un fichier texte : [Pickle](https://docs.python.org/3/library/pickle.html).\n",
    "* Rechargez cette liste.\n",
    "* Même chose avec un dictionnaire."
   ]
  },
  {
   "cell_type": "code",
   "execution_count": 37,
   "metadata": {},
   "outputs": [
    {
     "name": "stdout",
     "output_type": "stream",
     "text": [
      "pwd=C:\\Users\\e1602617\\Desktop\n"
     ]
    }
   ],
   "source": [
    "import pickle\n",
    "import os\n",
    "print(\"pwd=%s\" % os.getcwd()) # old style formating\n",
    "villes = [\"Vannes\",\"Quimper\",\"Lorient\",\"Brest\",\"Rennes\",\"Saint-Malo\"]\n",
    "pickle.dump(villes, open('./villes.txt', 'wb'))"
   ]
  },
  {
   "cell_type": "code",
   "execution_count": null,
   "metadata": {},
   "outputs": [],
   "source": []
  },
  {
   "cell_type": "code",
   "execution_count": null,
   "metadata": {},
   "outputs": [],
   "source": []
  },
  {
   "cell_type": "code",
   "execution_count": null,
   "metadata": {},
   "outputs": [],
   "source": []
  },
  {
   "cell_type": "code",
   "execution_count": null,
   "metadata": {},
   "outputs": [],
   "source": []
  },
  {
   "cell_type": "markdown",
   "metadata": {},
   "source": [
    "## Exercice 3 : Classe\n",
    "\n",
    "* Créer une classe Python nommée ``Vecteur``, que l'on utilisera pour décrire un vecteur plan. Ces paramètres sont ``x`` et ``y``.\n",
    "* Implémenter l'addition ``__add__``, la soustraction ``__sub__``, les multiplications ``__mul__`` et ``__rmul__`` par un vecteur et un scalaire, et la représentation ``__repr__``. Ne pas oublier le constructeur ``__init__``.\n",
    "* Créer une classe nommée ``Particule``, dont les paramètres sont les vecteurs position et vitesse. Implémenter une méthode ``deplace(dt)`` pour calculer la nouvelle position d'une particule après un pas de temps dt."
   ]
  },
  {
   "cell_type": "code",
   "execution_count": null,
   "metadata": {},
   "outputs": [],
   "source": []
  },
  {
   "cell_type": "code",
   "execution_count": null,
   "metadata": {},
   "outputs": [],
   "source": []
  },
  {
   "cell_type": "markdown",
   "metadata": {},
   "source": [
    "Testez le bon fonctionnement de vos deux classes"
   ]
  },
  {
   "cell_type": "code",
   "execution_count": null,
   "metadata": {},
   "outputs": [],
   "source": []
  },
  {
   "cell_type": "markdown",
   "metadata": {},
   "source": [
    "## Exercice 4 : Simpy\n",
    "\n",
    "$$ I = \\int_{-\\infty}^{+\\infty} e^{-x^2}dx$$\n",
    "\n",
    "* Calculez l’intégrale suivante (dite de Gauss) en utilisant la méthode symbolique de [Simpy](https://docs.sympy.org/1.5.1/modules/integrals/integrals.html) \n",
    "* Calculez cette même intégrale numériquement en utilisant la méthode des trapèzes de numpy (i.e. ``numpy.trapz``) \n",
    "* Calculez une nouvelle fois la même intégrale avec une méthode de calcul équivalente que vous aurez codée.\n",
    "\n"
   ]
  },
  {
   "cell_type": "code",
   "execution_count": null,
   "metadata": {},
   "outputs": [],
   "source": [
    "from simpy import *"
   ]
  },
  {
   "cell_type": "code",
   "execution_count": null,
   "metadata": {},
   "outputs": [],
   "source": []
  },
  {
   "cell_type": "code",
   "execution_count": null,
   "metadata": {},
   "outputs": [],
   "source": []
  },
  {
   "cell_type": "code",
   "execution_count": null,
   "metadata": {},
   "outputs": [],
   "source": []
  },
  {
   "cell_type": "markdown",
   "metadata": {},
   "source": [
    "## Exercice 5 : image\n",
    "\n",
    "* Récupérez l’image hyperspectrale nommée ``Urban_R162.mat`` \n",
    "* Examinez la structure de données correspondantes \n",
    "* Faire une fonction qui affiche une bande spectrale donnée de l’image sous la forme d’une image avec une colormap \n",
    "* Affichez une composition couleur de cette image en choisissant la correspondance spectre/couleur suivante : \n",
    "\n",
    " 50->R 100->G 150->B \n",
    "* Affichez sur un même diagramme 10 spectres pris aléatoirement dans l’image"
   ]
  },
  {
   "cell_type": "code",
   "execution_count": 1,
   "metadata": {},
   "outputs": [],
   "source": [
    "%matplotlib inline\n",
    "import matplotlib.pyplot as plt"
   ]
  },
  {
   "cell_type": "code",
   "execution_count": 2,
   "metadata": {},
   "outputs": [],
   "source": [
    "# Lecture d'un fichier .mat en Python\n",
    "import scipy.io\n",
    "mat = scipy.io.loadmat('Urban_R162.mat')"
   ]
  },
  {
   "cell_type": "code",
   "execution_count": null,
   "metadata": {},
   "outputs": [],
   "source": []
  },
  {
   "cell_type": "markdown",
   "metadata": {},
   "source": [
    "Comment est organisé la donnée (quelle structure ?) ? Quelle est la taille de l'image ? [A compléter]"
   ]
  },
  {
   "cell_type": "code",
   "execution_count": null,
   "metadata": {},
   "outputs": [],
   "source": []
  },
  {
   "cell_type": "code",
   "execution_count": null,
   "metadata": {},
   "outputs": [],
   "source": []
  },
  {
   "cell_type": "code",
   "execution_count": null,
   "metadata": {},
   "outputs": [],
   "source": []
  },
  {
   "cell_type": "code",
   "execution_count": null,
   "metadata": {},
   "outputs": [],
   "source": []
  }
 ],
 "metadata": {
  "kernelspec": {
   "display_name": "Python 3",
   "language": "python",
   "name": "python3"
  },
  "language_info": {
   "codemirror_mode": {
    "name": "ipython",
    "version": 3
   },
   "file_extension": ".py",
   "mimetype": "text/x-python",
   "name": "python",
   "nbconvert_exporter": "python",
   "pygments_lexer": "ipython3",
   "version": "3.6.8"
  }
 },
 "nbformat": 4,
 "nbformat_minor": 4
}
