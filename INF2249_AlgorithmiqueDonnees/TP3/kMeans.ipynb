{
 "cells": [
  {
   "cell_type": "markdown",
   "metadata": {},
   "source": [
    "# $k$-Moyennes"
   ]
  },
  {
   "cell_type": "code",
   "execution_count": 43,
   "metadata": {},
   "outputs": [],
   "source": [
    "import numpy as np\n",
    "import pandas as pd\n",
    "import matplotlib.pyplot as plt\n",
    "from sklearn import datasets\n",
    "from numpy.random import uniform as rand"
   ]
  },
  {
   "cell_type": "markdown",
   "metadata": {},
   "source": [
    "## Chargement d'un jeux de données\n",
    "\n",
    "Utilisation des jeux de données disponibles sous Scikit-Learn :\n",
    "https://scikit-learn.org/stable/datasets/index.html\n",
    "\n",
    "Choisissez un des jeux de données, e.g. \n",
    "    \n",
    "    iris = datasets.load_iris()\n",
    "    X = iris.data\n",
    "    y = iris.target\n",
    "    \n",
    "    # Visualisation\n",
    "    plt.figure()\n",
    "    plt.scatter(X[:,0], y[:,0], s=7, c=y)\n",
    "    plt.show"
   ]
  },
  {
   "cell_type": "code",
   "execution_count": 85,
   "metadata": {},
   "outputs": [
    {
     "name": "stdout",
     "output_type": "stream",
     "text": [
      "[[2.012194948967995, 7.54565024091749, 3.723594330618831, 6.376895539757801], [2.7446626235057736, 0.6367116932556842, 5.521382384128281, 7.730140085657629], [3.704767919283923, 0.885408303450134, 1.2132058803129182, 5.370024033393147]]\n"
     ]
    },
    {
     "name": "stderr",
     "output_type": "stream",
     "text": [
      "C:\\ProgramData\\Anaconda2\\lib\\site-packages\\ipykernel_launcher.py:38: RuntimeWarning: invalid value encountered in true_divide\n"
     ]
    },
    {
     "name": "stdout",
     "output_type": "stream",
     "text": [
      "[2, 2, 2, 2, 2, 2, 2, 2, 2, 2, 2, 2, 2, 2, 2, 2, 2, 2, 2, 2, 2, 2, 2, 2, 2, 2, 2, 2, 2, 2, 2, 2, 2, 2, 2, 2, 2, 2, 2, 2, 2, 2, 2, 2, 2, 2, 2, 2, 2, 2, 1, 1, 1, 1, 1, 1, 1, 2, 1, 1, 1, 1, 1, 1, 1, 1, 1, 1, 1, 1, 1, 1, 1, 1, 1, 1, 1, 1, 1, 1, 1, 1, 1, 1, 1, 1, 1, 1, 1, 1, 1, 1, 1, 2, 1, 1, 1, 1, 2, 1, 1, 1, 1, 1, 1, 1, 1, 1, 1, 1, 1, 1, 1, 1, 1, 1, 1, 1, 1, 1, 1, 1, 1, 1, 1, 1, 1, 1, 1, 1, 1, 1, 1, 1, 1, 1, 1, 1, 1, 1, 1, 1, 1, 1, 1, 1, 1, 1, 1, 1]\n"
     ]
    },
    {
     "data": {
      "text/plain": [
       "<function matplotlib.pyplot.show(*args, **kw)>"
      ]
     },
     "execution_count": 85,
     "metadata": {},
     "output_type": "execute_result"
    },
    {
     "data": {
      "image/png": "[encoded data removed]",
      "text/plain": [
       "<Figure size 432x288 with 1 Axes>"
      ]
     },
     "metadata": {
      "needs_background": "light"
     },
     "output_type": "display_data"
    }
   ],
   "source": [
    "iris = datasets.load_iris()\n",
    "X = iris.data\n",
    "y = iris.target\n",
    "\n",
    "def k_means(nbClusters,dataset):\n",
    "    ITE_MAX = 2000\n",
    "    nbIt = 0\n",
    "    centroides = []\n",
    "    maxVal = max(np.max(dataset.data, axis=0))\n",
    "    minVal = min(np.min(dataset.data, axis=0))\n",
    "    rd = dataset.data.shape[1]\n",
    "    for i in range(nbClusters):\n",
    "        centroide = []\n",
    "        for j in range(rd):\n",
    "            centroide.append(rand(minVal,maxVal))\n",
    "        centroides.append(centroide)\n",
    "    print(centroides)\n",
    "    new_centroides = centroides.copy()\n",
    "    target = initDataset(dataset.data)\n",
    "    target = assignCentroides(dataset.data,new_centroides,target)\n",
    "    new_centroides = computeCentroides(dataset.data,centroides,target,rd)\n",
    "    while(compareCentroides(centroides,new_centroides) == False and nbIt < ITE_MAX):\n",
    "        nbIt += 1\n",
    "        target = assignCentroides(dataset.data,new_centroides,target)\n",
    "        new_centroides = computeCentroides(dataset.data,centroides,target,rd)\n",
    "    print(target)\n",
    "    return target\n",
    "        \n",
    "def computeCentroides(data,centroides,target,rd):\n",
    "    ret = centroides.copy()\n",
    "    for i in range(len(centroides)):\n",
    "        new_centroides = np.zeros(rd)\n",
    "        nb_points = 0\n",
    "        for j in range(len(data)):\n",
    "            if target[j] == i:\n",
    "                nb_points += 1\n",
    "                new_centroides = np.add(new_centroides,data[j])\n",
    "        new_centroides /= nb_points\n",
    "        ret[i] = new_centroides\n",
    "    return ret\n",
    "def assignCentroides(data,centroides,target):\n",
    "    ret = target.copy()\n",
    "    for i in range(len(data)):\n",
    "        best_choice = 0\n",
    "        distance = 1000\n",
    "        for j in range(len(centroides)):\n",
    "            new_dist = distance_between(data[i],centroides[j]) \n",
    "            if new_dist < distance:\n",
    "                distance = new_dist\n",
    "                best_choice = j\n",
    "        ret[i] = best_choice\n",
    "    return ret\n",
    "                \n",
    "def distance_between(t1,t2):\n",
    "    ret = 0\n",
    "    for i in range(len(t1)):\n",
    "        ret += np.power(t1[i] - t2[i],2)\n",
    "    return np.sqrt(ret)\n",
    "    \n",
    "def initDataset(dataset):\n",
    "    ret = []\n",
    "    for i in range(len(dataset)):\n",
    "        ret.append(-1)\n",
    "    return ret\n",
    "def compareCentroides(c1,c2):\n",
    "    ret = True\n",
    "    hasBreak = False\n",
    "    for i in range(len(c1)):\n",
    "        for j in range(len(c1[i])):    \n",
    "            if c1[i][j] != c2[i][j]:\n",
    "                ret = False\n",
    "                hasBreak = True\n",
    "                break\n",
    "        if hasBreak:\n",
    "            break\n",
    "    return ret\n",
    "target = k_means(3,iris)\n",
    "\n",
    "# Visualisation\n",
    "plt.figure()\n",
    "plt.scatter(X[:,0], X[:,2], s=7, c=target)\n",
    "plt.show"
   ]
  },
  {
   "cell_type": "code",
   "execution_count": null,
   "metadata": {},
   "outputs": [],
   "source": []
  }
 ],
 "metadata": {
  "kernelspec": {
   "display_name": "Python 3",
   "language": "python",
   "name": "python3"
  },
  "language_info": {
   "codemirror_mode": {
    "name": "ipython",
    "version": 3
   },
   "file_extension": ".py",
   "mimetype": "text/x-python",
   "name": "python",
   "nbconvert_exporter": "python",
   "pygments_lexer": "ipython3",
   "version": "3.6.8"
  }
 },
 "nbformat": 4,
 "nbformat_minor": 2
}
